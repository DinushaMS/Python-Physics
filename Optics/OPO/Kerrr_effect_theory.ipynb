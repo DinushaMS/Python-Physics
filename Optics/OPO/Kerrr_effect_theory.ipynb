{
 "cells": [
  {
   "cell_type": "code",
   "execution_count": null,
   "id": "4f628e83",
   "metadata": {},
   "outputs": [],
   "source": [
    "import numpy as np\n",
    "import matplotlib.pyplot as plt"
   ]
  },
  {
   "cell_type": "code",
   "execution_count": 2,
   "id": "0b18c3d4",
   "metadata": {},
   "outputs": [],
   "source": [
    "def int_dep_n(n0,n1,I):\n",
    "    return n0 + n1*I"
   ]
  },
  {
   "cell_type": "code",
   "execution_count": null,
   "id": "7c11577f",
   "metadata": {},
   "outputs": [],
   "source": [
    "z=np.linspace(0,10,100)\n",
    "theta = np.zeros_like(z)\n",
    "theta[0]=-20*np.pi/180\n",
    "for i in range(len(z)):\n",
    "    n = int_dep_n(1.5,0,z)\n",
    "    plt.plot(z[i])"
   ]
  }
 ],
 "metadata": {
  "kernelspec": {
   "display_name": ".venv (3.13.5)",
   "language": "python",
   "name": "python3"
  },
  "language_info": {
   "codemirror_mode": {
    "name": "ipython",
    "version": 3
   },
   "file_extension": ".py",
   "mimetype": "text/x-python",
   "name": "python",
   "nbconvert_exporter": "python",
   "pygments_lexer": "ipython3",
   "version": "3.13.5"
  }
 },
 "nbformat": 4,
 "nbformat_minor": 5
}
