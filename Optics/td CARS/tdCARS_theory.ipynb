{
 "cells": [
  {
   "cell_type": "code",
   "execution_count": 1,
   "id": "ec1c35dd",
   "metadata": {},
   "outputs": [],
   "source": [
    "import numpy as np\n",
    "import matplotlib.pyplot as plt"
   ]
  },
  {
   "cell_type": "markdown",
   "id": "15272dc4",
   "metadata": {},
   "source": [
    "$$S(\\omega_{t_d})=2S_{max}\\left|\\frac{2ln2}{t_p^2}\\int_{-\\infty}^{\\infty}g(t'-t_d)\\left[\\int_{-t_0}^{\\infty}\\sum_{j=1}^{n}e^{-(t'-\\theta)\\left(\\frac{1}{T_{2j}}+i\\Delta\\omega_j\\right)}g^2(\\theta)H(t'-\\theta)d\\theta\\right]dt'\\right|^2$$"
   ]
  },
  {
   "cell_type": "code",
   "execution_count": 3,
   "id": "11acbfa0",
   "metadata": {},
   "outputs": [],
   "source": [
    "def g(t,sigma_t):\n",
    "    \"\"\"Gaussian function in time domain\"\"\"\n",
    "    return np.exp(-t**2 / (2 * sigma_t**2))\n",
    "def H(t):\n",
    "    \"\"\"Heaviside step function\"\"\"\n",
    "    return np.where(t >= 0, 1, 0)"
   ]
  },
  {
   "cell_type": "code",
   "execution_count": 16,
   "id": "78a2b1ac",
   "metadata": {},
   "outputs": [],
   "source": [
    "S_max = 1\n",
    "td_array = np.linspace(-5, 5, 100)\n",
    "T2 = 0.5\n",
    "om1,om2 = 1, 1.1\n",
    "sigma_t = 0.1\n",
    "tp = np.linspace(-2, 5, 100)\n",
    "theta = np.linspace(-2, 5, 100)\n",
    "S = np.zeros_like(td_array)\n",
    "for i,td in enumerate(td_array):\n",
    "    S1 = 0\n",
    "    for tp_i in tp:\n",
    "        S2 = 0\n",
    "        for theta_i in theta:\n",
    "            S2 += np.exp(-(tp_i - theta_i)/T2)*g(theta_i, sigma_t)**2*H(tp_i - theta_i)*(theta[1]-theta[0])\n",
    "        S1 += S2 * g(tp_i - td, sigma_t) * (tp[1]-tp[0])\n",
    "    S[i] = 2 * S_max * (2 * np.log(2) / sigma_t**2 * S1)**2"
   ]
  },
  {
   "cell_type": "code",
   "execution_count": 17,
   "id": "fe999ddd",
   "metadata": {},
   "outputs": [
    {
     "data": {
      "image/png": "[encoded data removed]",
      "text/plain": [
       "<Figure size 640x480 with 1 Axes>"
      ]
     },
     "metadata": {},
     "output_type": "display_data"
    }
   ],
   "source": [
    "plt.plot(td_array, S, 'ok')\n",
    "plt.yscale('log')"
   ]
  },
  {
   "cell_type": "code",
   "execution_count": null,
   "id": "e36c0d2f",
   "metadata": {},
   "outputs": [],
   "source": []
  }
 ],
 "metadata": {
  "kernelspec": {
   "display_name": ".venv (3.13.5)",
   "language": "python",
   "name": "python3"
  },
  "language_info": {
   "codemirror_mode": {
    "name": "ipython",
    "version": 3
   },
   "file_extension": ".py",
   "mimetype": "text/x-python",
   "name": "python",
   "nbconvert_exporter": "python",
   "pygments_lexer": "ipython3",
   "version": "3.13.5"
  }
 },
 "nbformat": 4,
 "nbformat_minor": 5
}
