{
 "cells": [
  {
   "cell_type": "code",
   "execution_count": 3,
   "id": "858bbd29",
   "metadata": {},
   "outputs": [],
   "source": [
    "import sympy as sp"
   ]
  },
  {
   "cell_type": "code",
   "execution_count": 4,
   "id": "12968536",
   "metadata": {},
   "outputs": [],
   "source": [
    "z,t,dk,L,op,os,oi,kp,ks,ki,eps0,chi2 = sp.symbols('z t \\\\Delta{k} L \\\\omega_p \\\\omega_s \\\\omega_i k_p k_s k_i \\\\epsilon_0 \\\\chi^{(2)}', real=True, nonzero=True)\n",
    "ns,c = sp.symbols('n_s c', real=True, nonzero=True)\n",
    "Ap,As,Ai = sp.Function('A_p')(z,t), sp.Function('A_s')(z,t), sp.Function('A_i')(z,t)\n",
    "Ep = Ap*sp.exp(sp.I*(kp*z-op*t))#+sp.conjugate(Ap*sp.exp(sp.I*(kp*z-op*t)))\n",
    "Es = As*sp.exp(sp.I*(ks*z-os*t))#+sp.conjugate(As*sp.exp(sp.I*(ks*z-os*t)))\n",
    "Ei = Ai*sp.exp(sp.I*(ki*z-oi*t))#+sp.conjugate(Ai*sp.exp(sp.I*(ki*z-oi*t)))\n",
    "Ps = eps0*chi2*Ep*sp.conjugate(Ei)"
   ]
  },
  {
   "cell_type": "code",
   "execution_count": 5,
   "id": "2bbaa98f",
   "metadata": {},
   "outputs": [
    {
     "data": {
      "text/latex": [
       "$\\displaystyle - \\frac{\\chi^{(2)} \\omega_{i}^{2} n_{s}^{2} A_{p}{\\left(z,t \\right)} e^{i \\omega_{i} t} e^{- i \\omega_{p} t} e^{- i k_{i} z} e^{i k_{p} z} \\overline{A_{i}{\\left(z,t \\right)}}}{c^{2}} + \\frac{2 \\chi^{(2)} \\omega_{i} \\omega_{p} n_{s}^{2} A_{p}{\\left(z,t \\right)} e^{i \\omega_{i} t} e^{- i \\omega_{p} t} e^{- i k_{i} z} e^{i k_{p} z} \\overline{A_{i}{\\left(z,t \\right)}}}{c^{2}} + \\frac{2 i \\chi^{(2)} \\omega_{i} n_{s}^{2} A_{p}{\\left(z,t \\right)} e^{i \\omega_{i} t} e^{- i \\omega_{p} t} e^{- i k_{i} z} e^{i k_{p} z} \\overline{\\frac{\\partial}{\\partial t} A_{i}{\\left(z,t \\right)}}}{c^{2}} + \\frac{2 i \\chi^{(2)} \\omega_{i} n_{s}^{2} e^{i \\omega_{i} t} e^{- i \\omega_{p} t} e^{- i k_{i} z} e^{i k_{p} z} \\overline{A_{i}{\\left(z,t \\right)}} \\frac{\\partial}{\\partial t} A_{p}{\\left(z,t \\right)}}{c^{2}} - \\frac{\\chi^{(2)} \\omega_{p}^{2} n_{s}^{2} A_{p}{\\left(z,t \\right)} e^{i \\omega_{i} t} e^{- i \\omega_{p} t} e^{- i k_{i} z} e^{i k_{p} z} \\overline{A_{i}{\\left(z,t \\right)}}}{c^{2}} - \\frac{2 i \\chi^{(2)} \\omega_{p} n_{s}^{2} A_{p}{\\left(z,t \\right)} e^{i \\omega_{i} t} e^{- i \\omega_{p} t} e^{- i k_{i} z} e^{i k_{p} z} \\overline{\\frac{\\partial}{\\partial t} A_{i}{\\left(z,t \\right)}}}{c^{2}} - \\frac{2 i \\chi^{(2)} \\omega_{p} n_{s}^{2} e^{i \\omega_{i} t} e^{- i \\omega_{p} t} e^{- i k_{i} z} e^{i k_{p} z} \\overline{A_{i}{\\left(z,t \\right)}} \\frac{\\partial}{\\partial t} A_{p}{\\left(z,t \\right)}}{c^{2}} + \\frac{\\chi^{(2)} n_{s}^{2} A_{p}{\\left(z,t \\right)} e^{i \\omega_{i} t} e^{- i \\omega_{p} t} e^{- i k_{i} z} e^{i k_{p} z} \\overline{\\frac{\\partial^{2}}{\\partial t^{2}} A_{i}{\\left(z,t \\right)}}}{c^{2}} + \\frac{\\chi^{(2)} n_{s}^{2} e^{i \\omega_{i} t} e^{- i \\omega_{p} t} e^{- i k_{i} z} e^{i k_{p} z} \\overline{A_{i}{\\left(z,t \\right)}} \\frac{\\partial^{2}}{\\partial t^{2}} A_{p}{\\left(z,t \\right)}}{c^{2}} + \\frac{2 \\chi^{(2)} n_{s}^{2} e^{i \\omega_{i} t} e^{- i \\omega_{p} t} e^{- i k_{i} z} e^{i k_{p} z} \\overline{\\frac{\\partial}{\\partial t} A_{i}{\\left(z,t \\right)}} \\frac{\\partial}{\\partial t} A_{p}{\\left(z,t \\right)}}{c^{2}} + k_{s}^{2} A_{s}{\\left(z,t \\right)} e^{- i \\omega_{s} t} e^{i k_{s} z} - 2 i k_{s} e^{- i \\omega_{s} t} e^{i k_{s} z} \\frac{\\partial}{\\partial z} A_{s}{\\left(z,t \\right)} - e^{- i \\omega_{s} t} e^{i k_{s} z} \\frac{\\partial^{2}}{\\partial z^{2}} A_{s}{\\left(z,t \\right)} + \\frac{n_{s}^{2} \\frac{\\partial^{2}}{\\partial t^{2}} A_{s}{\\left(z,t \\right)}}{c^{2}}$"
      ],
      "text/plain": [
       "-\\chi^{(2)}*\\omega_i**2*n_s**2*A_p(z, t)*exp(I*\\omega_i*t)*exp(-I*\\omega_p*t)*exp(-I*k_i*z)*exp(I*k_p*z)*conjugate(A_i(z, t))/c**2 + 2*\\chi^{(2)}*\\omega_i*\\omega_p*n_s**2*A_p(z, t)*exp(I*\\omega_i*t)*exp(-I*\\omega_p*t)*exp(-I*k_i*z)*exp(I*k_p*z)*conjugate(A_i(z, t))/c**2 + 2*I*\\chi^{(2)}*\\omega_i*n_s**2*A_p(z, t)*exp(I*\\omega_i*t)*exp(-I*\\omega_p*t)*exp(-I*k_i*z)*exp(I*k_p*z)*conjugate(Derivative(A_i(z, t), t))/c**2 + 2*I*\\chi^{(2)}*\\omega_i*n_s**2*exp(I*\\omega_i*t)*exp(-I*\\omega_p*t)*exp(-I*k_i*z)*exp(I*k_p*z)*conjugate(A_i(z, t))*Derivative(A_p(z, t), t)/c**2 - \\chi^{(2)}*\\omega_p**2*n_s**2*A_p(z, t)*exp(I*\\omega_i*t)*exp(-I*\\omega_p*t)*exp(-I*k_i*z)*exp(I*k_p*z)*conjugate(A_i(z, t))/c**2 - 2*I*\\chi^{(2)}*\\omega_p*n_s**2*A_p(z, t)*exp(I*\\omega_i*t)*exp(-I*\\omega_p*t)*exp(-I*k_i*z)*exp(I*k_p*z)*conjugate(Derivative(A_i(z, t), t))/c**2 - 2*I*\\chi^{(2)}*\\omega_p*n_s**2*exp(I*\\omega_i*t)*exp(-I*\\omega_p*t)*exp(-I*k_i*z)*exp(I*k_p*z)*conjugate(A_i(z, t))*Derivative(A_p(z, t), t)/c**2 + \\chi^{(2)}*n_s**2*A_p(z, t)*exp(I*\\omega_i*t)*exp(-I*\\omega_p*t)*exp(-I*k_i*z)*exp(I*k_p*z)*conjugate(Derivative(A_i(z, t), (t, 2)))/c**2 + \\chi^{(2)}*n_s**2*exp(I*\\omega_i*t)*exp(-I*\\omega_p*t)*exp(-I*k_i*z)*exp(I*k_p*z)*conjugate(A_i(z, t))*Derivative(A_p(z, t), (t, 2))/c**2 + 2*\\chi^{(2)}*n_s**2*exp(I*\\omega_i*t)*exp(-I*\\omega_p*t)*exp(-I*k_i*z)*exp(I*k_p*z)*conjugate(Derivative(A_i(z, t), t))*Derivative(A_p(z, t), t)/c**2 + k_s**2*A_s(z, t)*exp(-I*\\omega_s*t)*exp(I*k_s*z) - 2*I*k_s*exp(-I*\\omega_s*t)*exp(I*k_s*z)*Derivative(A_s(z, t), z) - exp(-I*\\omega_s*t)*exp(I*k_s*z)*Derivative(A_s(z, t), (z, 2)) + n_s**2*Derivative(A_s(z, t), (t, 2))/c**2"
      ]
     },
     "execution_count": 5,
     "metadata": {},
     "output_type": "execute_result"
    }
   ],
   "source": [
    "eq_1 = (sp.diff(Ps, t, 2)*ns**2/eps0/c**2-sp.diff(Es,z,2)+sp.diff(As,t,2)*ns**2/c**2).expand()\n",
    "eq_1"
   ]
  },
  {
   "cell_type": "code",
   "execution_count": 13,
   "id": "ec9190fd",
   "metadata": {},
   "outputs": [
    {
     "data": {
      "text/latex": [
       "$\\displaystyle \\frac{i \\chi^{(2)} \\omega_{i}^{2} n_{s}^{2} A_{p}{\\left(z,t \\right)} e^{i \\omega_{i} t} e^{- i \\omega_{p} t} e^{i \\omega_{s} t} e^{- i k_{i} z} e^{i k_{p} z} e^{- i k_{s} z} \\overline{A_{i}{\\left(z,t \\right)}}}{2 c^{2} k_{s}} - \\frac{i \\chi^{(2)} \\omega_{i} \\omega_{p} n_{s}^{2} A_{p}{\\left(z,t \\right)} e^{i \\omega_{i} t} e^{- i \\omega_{p} t} e^{i \\omega_{s} t} e^{- i k_{i} z} e^{i k_{p} z} e^{- i k_{s} z} \\overline{A_{i}{\\left(z,t \\right)}}}{c^{2} k_{s}} + \\frac{i \\chi^{(2)} \\omega_{p}^{2} n_{s}^{2} A_{p}{\\left(z,t \\right)} e^{i \\omega_{i} t} e^{- i \\omega_{p} t} e^{i \\omega_{s} t} e^{- i k_{i} z} e^{i k_{p} z} e^{- i k_{s} z} \\overline{A_{i}{\\left(z,t \\right)}}}{2 c^{2} k_{s}} - \\frac{i k_{s} A_{s}{\\left(z,t \\right)}}{2}$"
      ],
      "text/plain": [
       "I*\\chi^{(2)}*\\omega_i**2*n_s**2*A_p(z, t)*exp(I*\\omega_i*t)*exp(-I*\\omega_p*t)*exp(I*\\omega_s*t)*exp(-I*k_i*z)*exp(I*k_p*z)*exp(-I*k_s*z)*conjugate(A_i(z, t))/(2*c**2*k_s) - I*\\chi^{(2)}*\\omega_i*\\omega_p*n_s**2*A_p(z, t)*exp(I*\\omega_i*t)*exp(-I*\\omega_p*t)*exp(I*\\omega_s*t)*exp(-I*k_i*z)*exp(I*k_p*z)*exp(-I*k_s*z)*conjugate(A_i(z, t))/(c**2*k_s) + I*\\chi^{(2)}*\\omega_p**2*n_s**2*A_p(z, t)*exp(I*\\omega_i*t)*exp(-I*\\omega_p*t)*exp(I*\\omega_s*t)*exp(-I*k_i*z)*exp(I*k_p*z)*exp(-I*k_s*z)*conjugate(A_i(z, t))/(2*c**2*k_s) - I*k_s*A_s(z, t)/2"
      ]
     },
     "execution_count": 13,
     "metadata": {},
     "output_type": "execute_result"
    }
   ],
   "source": [
    "terms_to_zero = [sp.diff(As,t,2),sp.diff(Ap,t,2),sp.diff(Ap,t,1),sp.diff(Ai,t,2),sp.diff(Ai,t,1)]\n",
    "eq_2 = eq_1.subs(sp.diff(As,z,2),0)\n",
    "for term in terms_to_zero:\n",
    "    eq_2 = eq_2.subs(term, 0)\n",
    "dAsdz = (eq_2/2/sp.I/ks*sp.exp(-sp.I*(ks*z-os*t))).expand()+sp.diff(As,z)\n",
    "dAsdz"
   ]
  },
  {
   "cell_type": "code",
   "execution_count": null,
   "id": "518bda34",
   "metadata": {},
   "outputs": [],
   "source": []
  }
 ],
 "metadata": {
  "kernelspec": {
   "display_name": ".venv (3.13.5)",
   "language": "python",
   "name": "python3"
  },
  "language_info": {
   "codemirror_mode": {
    "name": "ipython",
    "version": 3
   },
   "file_extension": ".py",
   "mimetype": "text/x-python",
   "name": "python",
   "nbconvert_exporter": "python",
   "pygments_lexer": "ipython3",
   "version": "3.13.5"
  }
 },
 "nbformat": 4,
 "nbformat_minor": 5
}
