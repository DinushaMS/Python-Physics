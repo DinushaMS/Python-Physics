{
 "cells": [
  {
   "cell_type": "code",
   "execution_count": 48,
   "id": "f3ed2681",
   "metadata": {},
   "outputs": [],
   "source": [
    "from sympy.physics.vector import ReferenceFrame, cross, dot, curl, gradient, divergence\n",
    "import sympy as sp\n",
    "from IPython.display import display, Math"
   ]
  },
  {
   "cell_type": "code",
   "execution_count": 49,
   "id": "9f8ba638",
   "metadata": {},
   "outputs": [],
   "source": [
    "N = ReferenceFrame('N',variables=('x','y','z'))\n",
    "x,y,z = N[0],N[1],N[2] #sp.symbols('x y z', real=True, nonzeor=True)\n",
    "t = sp.symbols('t', real=True, nonzeor=True)\n",
    "E,P,D,H,M,B = sp.symbols('E P D H M B', cls=sp.Function)\n",
    "Ex,Ey,Ez = sp.symbols('E_x E_y E_z', cls=sp.Function)\n",
    "Ex,Ey,Ez = Ex(x,y,z,t)*N.x,Ey(x,y,z,t)*N.y,Ez(x,y,z,t)*N.z\n",
    "Dx,Dy,Dz = sp.symbols('D_x D_y D_z', cls=sp.Function)\n",
    "Dx,Dy,Dz = Dx(x,y,z,t)*N.x,Dy(x,y,z,t)*N.y,Dz(x,y,z,t)*N.z\n",
    "Px,Py,Pz = sp.symbols('P_x P_y P_z', cls=sp.Function)\n",
    "Px,Py,Pz = Px(x,y,z,t)*N.x,Py(x,y,z,t)*N.y,Pz(x,y,z,t)*N.z\n",
    "Bx,By,Bz = sp.symbols('B_x B_y B_z', cls=sp.Function)\n",
    "Bx,By,Bz = Bx(x,y,z,t)*N.x,By(x,y,z,t)*N.y,Bz(x,y,z,t)*N.z\n",
    "Hx,Hy,Hz = sp.symbols('H_x H_y H_z', cls=sp.Function)\n",
    "Hx,Hy,Hz = Hx(x,y,z,t)*N.x,Hy(x,y,z,t)*N.y,Hz(x,y,z,t)*N.z\n",
    "Mx,My,Mz = sp.symbols('M_x M_y M_z', cls=sp.Function)\n",
    "Mx,My,Mz = Mx(x,y,z,t)*N.x,My(x,y,z,t)*N.y,Mz(x,y,z,t)*N.z\n",
    "E = Ex + Ey + Ez\n",
    "D = Dx + Dy + Dz\n",
    "P = Px + Py + Pz\n",
    "B = Bx + By + Bz\n",
    "H = Hx + Hy + Hz\n",
    "M = Mx + My + Mz"
   ]
  },
  {
   "cell_type": "code",
   "execution_count": 50,
   "id": "56cd4ced",
   "metadata": {},
   "outputs": [],
   "source": [
    "rho,eps,mu = sp.symbols('rho epsilon mu', real=True)\n",
    "n,c,eps0,mu0 = sp.symbols('n c epsilon_0 mu_0', real=True)\n",
    "J = sp.symbols('J', cls=sp.Function)\n",
    "Jx,Jy,Jz = sp.symbols('J_x J_y J_z', cls=sp.Function)\n",
    "Jx,Jy,Jz = Jx(x,y,z,t)*N.x,Jy(x,y,z,t)*N.y,Jz(x,y,z,t)*N.z\n",
    "J = Jx + Jy + Jz"
   ]
  },
  {
   "cell_type": "code",
   "execution_count": 51,
   "id": "e4c29a48",
   "metadata": {},
   "outputs": [
    {
     "data": {
      "text/latex": [
       "$\\displaystyle - \\rho + \\frac{\\partial}{\\partial x} D_{x}{\\left(x,y,z,t \\right)} + \\frac{\\partial}{\\partial y} D_{y}{\\left(x,y,z,t \\right)} + \\frac{\\partial}{\\partial z} D_{z}{\\left(x,y,z,t \\right)}$"
      ],
      "text/plain": [
       "<IPython.core.display.Math object>"
      ]
     },
     "metadata": {},
     "output_type": "display_data"
    },
    {
     "data": {
      "text/latex": [
       "$\\displaystyle \\frac{\\partial}{\\partial x} B_{x}{\\left(x,y,z,t \\right)} + \\frac{\\partial}{\\partial y} B_{y}{\\left(x,y,z,t \\right)} + \\frac{\\partial}{\\partial z} B_{z}{\\left(x,y,z,t \\right)}$"
      ],
      "text/plain": [
       "<IPython.core.display.Math object>"
      ]
     },
     "metadata": {},
     "output_type": "display_data"
    },
    {
     "data": {
      "text/latex": [
       "$\\displaystyle (\\frac{\\partial}{\\partial t} B_{x}{\\left(x,y,z,t \\right)} - \\frac{\\partial}{\\partial z} E_{y}{\\left(x,y,z,t \\right)} + \\frac{\\partial}{\\partial y} E_{z}{\\left(x,y,z,t \\right)})\\mathbf{\\hat{n}_x} + (\\frac{\\partial}{\\partial t} B_{y}{\\left(x,y,z,t \\right)} + \\frac{\\partial}{\\partial z} E_{x}{\\left(x,y,z,t \\right)} - \\frac{\\partial}{\\partial x} E_{z}{\\left(x,y,z,t \\right)})\\mathbf{\\hat{n}_y} + (\\frac{\\partial}{\\partial t} B_{z}{\\left(x,y,z,t \\right)} - \\frac{\\partial}{\\partial y} E_{x}{\\left(x,y,z,t \\right)} + \\frac{\\partial}{\\partial x} E_{y}{\\left(x,y,z,t \\right)})\\mathbf{\\hat{n}_z}$"
      ],
      "text/plain": [
       "<IPython.core.display.Math object>"
      ]
     },
     "metadata": {},
     "output_type": "display_data"
    },
    {
     "data": {
      "text/latex": [
       "$\\displaystyle (- J_{x}{\\left(x,y,z,t \\right)} - \\frac{\\partial}{\\partial t} D_{x}{\\left(x,y,z,t \\right)} - \\frac{\\partial}{\\partial z} H_{y}{\\left(x,y,z,t \\right)} + \\frac{\\partial}{\\partial y} H_{z}{\\left(x,y,z,t \\right)})\\mathbf{\\hat{n}_x} + (- J_{y}{\\left(x,y,z,t \\right)} - \\frac{\\partial}{\\partial t} D_{y}{\\left(x,y,z,t \\right)} + \\frac{\\partial}{\\partial z} H_{x}{\\left(x,y,z,t \\right)} - \\frac{\\partial}{\\partial x} H_{z}{\\left(x,y,z,t \\right)})\\mathbf{\\hat{n}_y} + (- J_{z}{\\left(x,y,z,t \\right)} - \\frac{\\partial}{\\partial t} D_{z}{\\left(x,y,z,t \\right)} - \\frac{\\partial}{\\partial y} H_{x}{\\left(x,y,z,t \\right)} + \\frac{\\partial}{\\partial x} H_{y}{\\left(x,y,z,t \\right)})\\mathbf{\\hat{n}_z}$"
      ],
      "text/plain": [
       "<IPython.core.display.Math object>"
      ]
     },
     "metadata": {},
     "output_type": "display_data"
    }
   ],
   "source": [
    "#Maxwell's Equations\n",
    "eq_1 = divergence(D,N)-rho\n",
    "eq_2 = divergence(B,N)\n",
    "eq_3 = curl(E,N) + sp.diff(B,t,N)\n",
    "eq_4 = curl(H,N) - sp.diff(D,t,N) - J\n",
    "display(Math(sp.latex(eq_1)))\n",
    "display(Math(sp.latex(eq_2)))\n",
    "display(Math(sp.latex(eq_3)))\n",
    "display(Math(sp.latex(eq_4)))"
   ]
  },
  {
   "cell_type": "code",
   "execution_count": 52,
   "id": "919318d8",
   "metadata": {},
   "outputs": [
    {
     "data": {
      "text/latex": [
       "$\\displaystyle (- \\frac{\\partial^{2}}{\\partial y^{2}} E_{x}{\\left(x,y,z,t \\right)} - \\frac{\\partial^{2}}{\\partial z^{2}} E_{x}{\\left(x,y,z,t \\right)} - \\frac{\\partial^{2}}{\\partial t\\partial z} \\left(\\mu H_{y}{\\left(x,y,z,t \\right)} + M_{y}{\\left(x,y,z,t \\right)}\\right) + \\frac{\\partial^{2}}{\\partial t\\partial y} \\left(\\mu H_{z}{\\left(x,y,z,t \\right)} + M_{z}{\\left(x,y,z,t \\right)}\\right) + \\frac{\\partial^{2}}{\\partial y\\partial x} E_{y}{\\left(x,y,z,t \\right)} + \\frac{\\partial^{2}}{\\partial z\\partial x} E_{z}{\\left(x,y,z,t \\right)})\\mathbf{\\hat{n}_x} + (- \\frac{\\partial^{2}}{\\partial x^{2}} E_{y}{\\left(x,y,z,t \\right)} - \\frac{\\partial^{2}}{\\partial z^{2}} E_{y}{\\left(x,y,z,t \\right)} + \\frac{\\partial^{2}}{\\partial t\\partial z} \\left(\\mu H_{x}{\\left(x,y,z,t \\right)} + M_{x}{\\left(x,y,z,t \\right)}\\right) - \\frac{\\partial^{2}}{\\partial t\\partial x} \\left(\\mu H_{z}{\\left(x,y,z,t \\right)} + M_{z}{\\left(x,y,z,t \\right)}\\right) + \\frac{\\partial^{2}}{\\partial y\\partial x} E_{x}{\\left(x,y,z,t \\right)} + \\frac{\\partial^{2}}{\\partial z\\partial y} E_{z}{\\left(x,y,z,t \\right)})\\mathbf{\\hat{n}_y} + (- \\frac{\\partial^{2}}{\\partial x^{2}} E_{z}{\\left(x,y,z,t \\right)} - \\frac{\\partial^{2}}{\\partial y^{2}} E_{z}{\\left(x,y,z,t \\right)} - \\frac{\\partial^{2}}{\\partial t\\partial y} \\left(\\mu H_{x}{\\left(x,y,z,t \\right)} + M_{x}{\\left(x,y,z,t \\right)}\\right) + \\frac{\\partial^{2}}{\\partial t\\partial x} \\left(\\mu H_{y}{\\left(x,y,z,t \\right)} + M_{y}{\\left(x,y,z,t \\right)}\\right) + \\frac{\\partial^{2}}{\\partial z\\partial x} E_{x}{\\left(x,y,z,t \\right)} + \\frac{\\partial^{2}}{\\partial z\\partial y} E_{y}{\\left(x,y,z,t \\right)})\\mathbf{\\hat{n}_z}$"
      ],
      "text/plain": [
       "(-Derivative(E_x(x, y, z, t), (y, 2)) - Derivative(E_x(x, y, z, t), (z, 2)) - Derivative(mu*H_y(x, y, z, t) + M_y(x, y, z, t), z, t) + Derivative(mu*H_z(x, y, z, t) + M_z(x, y, z, t), y, t) + Derivative(E_y(x, y, z, t), x, y) + Derivative(E_z(x, y, z, t), x, z))*N.x + (-Derivative(E_y(x, y, z, t), (x, 2)) - Derivative(E_y(x, y, z, t), (z, 2)) + Derivative(mu*H_x(x, y, z, t) + M_x(x, y, z, t), z, t) - Derivative(mu*H_z(x, y, z, t) + M_z(x, y, z, t), x, t) + Derivative(E_x(x, y, z, t), x, y) + Derivative(E_z(x, y, z, t), y, z))*N.y + (-Derivative(E_z(x, y, z, t), (x, 2)) - Derivative(E_z(x, y, z, t), (y, 2)) - Derivative(mu*H_x(x, y, z, t) + M_x(x, y, z, t), y, t) + Derivative(mu*H_y(x, y, z, t) + M_y(x, y, z, t), x, t) + Derivative(E_x(x, y, z, t), x, z) + Derivative(E_y(x, y, z, t), y, z))*N.z"
      ]
     },
     "execution_count": 52,
     "metadata": {},
     "output_type": "execute_result"
    }
   ],
   "source": [
    "eq_5 = curl(eq_3,N).subs(dot(Bx,N.x),mu*dot(Hx,N.x)+dot(Mx,N.x)).subs(dot(By,N.y),mu*dot(Hy,N.y)+dot(My,N.y)).subs(dot(Bz,N.z),mu*dot(Hz,N.z)+dot(Mz,N.z))\n",
    "eq_5"
   ]
  },
  {
   "cell_type": "code",
   "execution_count": 53,
   "id": "20d48ebb",
   "metadata": {},
   "outputs": [
    {
     "data": {
      "text/latex": [
       "$\\displaystyle \\mu \\left(- \\frac{\\partial^{2}}{\\partial t^{2}} \\left(\\epsilon E_{x}{\\left(x,y,z,t \\right)} + P_{x}{\\left(x,y,z,t \\right)}\\right) - \\frac{\\partial}{\\partial t} J_{x}{\\left(x,y,z,t \\right)} - \\frac{\\partial^{2}}{\\partial t\\partial z} H_{y}{\\left(x,y,z,t \\right)} + \\frac{\\partial^{2}}{\\partial t\\partial y} H_{z}{\\left(x,y,z,t \\right)}\\right)\\mathbf{\\hat{n}_x} + \\mu \\left(- \\frac{\\partial^{2}}{\\partial t^{2}} \\left(\\epsilon E_{y}{\\left(x,y,z,t \\right)} + P_{y}{\\left(x,y,z,t \\right)}\\right) - \\frac{\\partial}{\\partial t} J_{y}{\\left(x,y,z,t \\right)} + \\frac{\\partial^{2}}{\\partial t\\partial z} H_{x}{\\left(x,y,z,t \\right)} - \\frac{\\partial^{2}}{\\partial t\\partial x} H_{z}{\\left(x,y,z,t \\right)}\\right)\\mathbf{\\hat{n}_y} + \\mu \\left(- \\frac{\\partial^{2}}{\\partial t^{2}} \\left(\\epsilon E_{z}{\\left(x,y,z,t \\right)} + P_{z}{\\left(x,y,z,t \\right)}\\right) - \\frac{\\partial}{\\partial t} J_{z}{\\left(x,y,z,t \\right)} - \\frac{\\partial^{2}}{\\partial t\\partial y} H_{x}{\\left(x,y,z,t \\right)} + \\frac{\\partial^{2}}{\\partial t\\partial x} H_{y}{\\left(x,y,z,t \\right)}\\right)\\mathbf{\\hat{n}_z}$"
      ],
      "text/plain": [
       "mu*(-Derivative(epsilon*E_x(x, y, z, t) + P_x(x, y, z, t), (t, 2)) - Derivative(J_x(x, y, z, t), t) - Derivative(H_y(x, y, z, t), z, t) + Derivative(H_z(x, y, z, t), y, t))*N.x + mu*(-Derivative(epsilon*E_y(x, y, z, t) + P_y(x, y, z, t), (t, 2)) - Derivative(J_y(x, y, z, t), t) + Derivative(H_x(x, y, z, t), z, t) - Derivative(H_z(x, y, z, t), x, t))*N.y + mu*(-Derivative(epsilon*E_z(x, y, z, t) + P_z(x, y, z, t), (t, 2)) - Derivative(J_z(x, y, z, t), t) - Derivative(H_x(x, y, z, t), y, t) + Derivative(H_y(x, y, z, t), x, t))*N.z"
      ]
     },
     "execution_count": 53,
     "metadata": {},
     "output_type": "execute_result"
    }
   ],
   "source": [
    "eq_6 = sp.diff(eq_4*mu,t,N).subs(dot(Dx,N.x),eps*dot(Ex,N.x)+dot(Px,N.x)).subs(dot(Dy,N.y),eps*dot(Ey,N.y)+dot(Py,N.y)).subs(dot(Dz,N.z),eps*dot(Ez,N.z)+dot(Pz,N.z))\n",
    "eq_6"
   ]
  },
  {
   "cell_type": "code",
   "execution_count": 54,
   "id": "836f9370",
   "metadata": {},
   "outputs": [
    {
     "data": {
      "text/latex": [
       "$\\displaystyle (\\frac{\\partial^{2}}{\\partial x^{2}} \\left(\\epsilon E_{x}{\\left(x,y,z,t \\right)} + P_{x}{\\left(x,y,z,t \\right)}\\right) + \\frac{\\partial^{2}}{\\partial y\\partial x} \\left(\\epsilon E_{y}{\\left(x,y,z,t \\right)} + P_{y}{\\left(x,y,z,t \\right)}\\right) + \\frac{\\partial^{2}}{\\partial z\\partial x} \\left(\\epsilon E_{z}{\\left(x,y,z,t \\right)} + P_{z}{\\left(x,y,z,t \\right)}\\right))\\mathbf{\\hat{n}_x} + (\\frac{\\partial^{2}}{\\partial y^{2}} \\left(\\epsilon E_{y}{\\left(x,y,z,t \\right)} + P_{y}{\\left(x,y,z,t \\right)}\\right) + \\frac{\\partial^{2}}{\\partial y\\partial x} \\left(\\epsilon E_{x}{\\left(x,y,z,t \\right)} + P_{x}{\\left(x,y,z,t \\right)}\\right) + \\frac{\\partial^{2}}{\\partial z\\partial y} \\left(\\epsilon E_{z}{\\left(x,y,z,t \\right)} + P_{z}{\\left(x,y,z,t \\right)}\\right))\\mathbf{\\hat{n}_y} + (\\frac{\\partial^{2}}{\\partial z^{2}} \\left(\\epsilon E_{z}{\\left(x,y,z,t \\right)} + P_{z}{\\left(x,y,z,t \\right)}\\right) + \\frac{\\partial^{2}}{\\partial z\\partial x} \\left(\\epsilon E_{x}{\\left(x,y,z,t \\right)} + P_{x}{\\left(x,y,z,t \\right)}\\right) + \\frac{\\partial^{2}}{\\partial z\\partial y} \\left(\\epsilon E_{y}{\\left(x,y,z,t \\right)} + P_{y}{\\left(x,y,z,t \\right)}\\right))\\mathbf{\\hat{n}_z}$"
      ],
      "text/plain": [
       "(Derivative(epsilon*E_x(x, y, z, t) + P_x(x, y, z, t), (x, 2)) + Derivative(epsilon*E_y(x, y, z, t) + P_y(x, y, z, t), x, y) + Derivative(epsilon*E_z(x, y, z, t) + P_z(x, y, z, t), x, z))*N.x + (Derivative(epsilon*E_y(x, y, z, t) + P_y(x, y, z, t), (y, 2)) + Derivative(epsilon*E_x(x, y, z, t) + P_x(x, y, z, t), x, y) + Derivative(epsilon*E_z(x, y, z, t) + P_z(x, y, z, t), y, z))*N.y + (Derivative(epsilon*E_z(x, y, z, t) + P_z(x, y, z, t), (z, 2)) + Derivative(epsilon*E_x(x, y, z, t) + P_x(x, y, z, t), x, z) + Derivative(epsilon*E_y(x, y, z, t) + P_y(x, y, z, t), y, z))*N.z"
      ]
     },
     "execution_count": 54,
     "metadata": {},
     "output_type": "execute_result"
    }
   ],
   "source": [
    "eq_7 = gradient(eq_1,N).subs(dot(Dx,N.x),eps*dot(Ex,N.x)+dot(Px,N.x)).subs(dot(Dy,N.y),eps*dot(Ey,N.y)+dot(Py,N.y)).subs(dot(Dz,N.z),eps*dot(Ez,N.z)+dot(Pz,N.z))\n",
    "eq_7"
   ]
  },
  {
   "cell_type": "code",
   "execution_count": 55,
   "id": "95a1d8fa",
   "metadata": {},
   "outputs": [
    {
     "data": {
      "text/latex": [
       "$\\displaystyle (\\epsilon \\mu \\frac{\\partial^{2}}{\\partial t^{2}} E_{x}{\\left(x,y,z,t \\right)} + \\mu \\frac{\\partial}{\\partial t} J_{x}{\\left(x,y,z,t \\right)} + \\mu \\frac{\\partial^{2}}{\\partial t^{2}} P_{x}{\\left(x,y,z,t \\right)} - \\frac{\\partial^{2}}{\\partial x^{2}} E_{x}{\\left(x,y,z,t \\right)} - \\frac{\\partial^{2}}{\\partial y^{2}} E_{x}{\\left(x,y,z,t \\right)} - \\frac{\\partial^{2}}{\\partial z^{2}} E_{x}{\\left(x,y,z,t \\right)} - \\frac{\\partial^{2}}{\\partial t\\partial z} M_{y}{\\left(x,y,z,t \\right)} + \\frac{\\partial^{2}}{\\partial t\\partial y} M_{z}{\\left(x,y,z,t \\right)} - \\frac{\\frac{\\partial^{2}}{\\partial x^{2}} P_{x}{\\left(x,y,z,t \\right)}}{\\epsilon} - \\frac{\\frac{\\partial^{2}}{\\partial y\\partial x} P_{y}{\\left(x,y,z,t \\right)}}{\\epsilon} - \\frac{\\frac{\\partial^{2}}{\\partial z\\partial x} P_{z}{\\left(x,y,z,t \\right)}}{\\epsilon})\\mathbf{\\hat{n}_x} + (\\epsilon \\mu \\frac{\\partial^{2}}{\\partial t^{2}} E_{y}{\\left(x,y,z,t \\right)} + \\mu \\frac{\\partial}{\\partial t} J_{y}{\\left(x,y,z,t \\right)} + \\mu \\frac{\\partial^{2}}{\\partial t^{2}} P_{y}{\\left(x,y,z,t \\right)} - \\frac{\\partial^{2}}{\\partial x^{2}} E_{y}{\\left(x,y,z,t \\right)} - \\frac{\\partial^{2}}{\\partial y^{2}} E_{y}{\\left(x,y,z,t \\right)} - \\frac{\\partial^{2}}{\\partial z^{2}} E_{y}{\\left(x,y,z,t \\right)} + \\frac{\\partial^{2}}{\\partial t\\partial z} M_{x}{\\left(x,y,z,t \\right)} - \\frac{\\partial^{2}}{\\partial t\\partial x} M_{z}{\\left(x,y,z,t \\right)} - \\frac{\\frac{\\partial^{2}}{\\partial y^{2}} P_{y}{\\left(x,y,z,t \\right)}}{\\epsilon} - \\frac{\\frac{\\partial^{2}}{\\partial y\\partial x} P_{x}{\\left(x,y,z,t \\right)}}{\\epsilon} - \\frac{\\frac{\\partial^{2}}{\\partial z\\partial y} P_{z}{\\left(x,y,z,t \\right)}}{\\epsilon})\\mathbf{\\hat{n}_y} + (\\epsilon \\mu \\frac{\\partial^{2}}{\\partial t^{2}} E_{z}{\\left(x,y,z,t \\right)} + \\mu \\frac{\\partial}{\\partial t} J_{z}{\\left(x,y,z,t \\right)} + \\mu \\frac{\\partial^{2}}{\\partial t^{2}} P_{z}{\\left(x,y,z,t \\right)} - \\frac{\\partial^{2}}{\\partial x^{2}} E_{z}{\\left(x,y,z,t \\right)} - \\frac{\\partial^{2}}{\\partial y^{2}} E_{z}{\\left(x,y,z,t \\right)} - \\frac{\\partial^{2}}{\\partial z^{2}} E_{z}{\\left(x,y,z,t \\right)} - \\frac{\\partial^{2}}{\\partial t\\partial y} M_{x}{\\left(x,y,z,t \\right)} + \\frac{\\partial^{2}}{\\partial t\\partial x} M_{y}{\\left(x,y,z,t \\right)} - \\frac{\\frac{\\partial^{2}}{\\partial z^{2}} P_{z}{\\left(x,y,z,t \\right)}}{\\epsilon} - \\frac{\\frac{\\partial^{2}}{\\partial z\\partial x} P_{x}{\\left(x,y,z,t \\right)}}{\\epsilon} - \\frac{\\frac{\\partial^{2}}{\\partial z\\partial y} P_{y}{\\left(x,y,z,t \\right)}}{\\epsilon})\\mathbf{\\hat{n}_z}$"
      ],
      "text/plain": [
       "(epsilon*mu*Derivative(E_x(x, y, z, t), (t, 2)) + mu*Derivative(J_x(x, y, z, t), t) + mu*Derivative(P_x(x, y, z, t), (t, 2)) - Derivative(E_x(x, y, z, t), (x, 2)) - Derivative(E_x(x, y, z, t), (y, 2)) - Derivative(E_x(x, y, z, t), (z, 2)) - Derivative(M_y(x, y, z, t), z, t) + Derivative(M_z(x, y, z, t), y, t) - Derivative(P_x(x, y, z, t), (x, 2))/epsilon - Derivative(P_y(x, y, z, t), x, y)/epsilon - Derivative(P_z(x, y, z, t), x, z)/epsilon)*N.x + (epsilon*mu*Derivative(E_y(x, y, z, t), (t, 2)) + mu*Derivative(J_y(x, y, z, t), t) + mu*Derivative(P_y(x, y, z, t), (t, 2)) - Derivative(E_y(x, y, z, t), (x, 2)) - Derivative(E_y(x, y, z, t), (y, 2)) - Derivative(E_y(x, y, z, t), (z, 2)) + Derivative(M_x(x, y, z, t), z, t) - Derivative(M_z(x, y, z, t), x, t) - Derivative(P_y(x, y, z, t), (y, 2))/epsilon - Derivative(P_x(x, y, z, t), x, y)/epsilon - Derivative(P_z(x, y, z, t), y, z)/epsilon)*N.y + (epsilon*mu*Derivative(E_z(x, y, z, t), (t, 2)) + mu*Derivative(J_z(x, y, z, t), t) + mu*Derivative(P_z(x, y, z, t), (t, 2)) - Derivative(E_z(x, y, z, t), (x, 2)) - Derivative(E_z(x, y, z, t), (y, 2)) - Derivative(E_z(x, y, z, t), (z, 2)) - Derivative(M_x(x, y, z, t), y, t) + Derivative(M_y(x, y, z, t), x, t) - Derivative(P_z(x, y, z, t), (z, 2))/epsilon - Derivative(P_x(x, y, z, t), x, z)/epsilon - Derivative(P_y(x, y, z, t), y, z)/epsilon)*N.z"
      ]
     },
     "execution_count": 55,
     "metadata": {},
     "output_type": "execute_result"
    }
   ],
   "source": [
    "eq_8 = (dot(eq_5-eq_6,N.x)-dot(eq_7/eps,N.x)).simplify().expand()*N.x+(dot(eq_5-eq_6,N.y)-dot(eq_7/eps,N.y)).simplify().expand()*N.y+(dot(eq_5-eq_6,N.z)-dot(eq_7/eps,N.z)).simplify().expand()*N.z\n",
    "eq_8"
   ]
  },
  {
   "cell_type": "code",
   "execution_count": 56,
   "id": "6f3a788d",
   "metadata": {},
   "outputs": [
    {
     "data": {
      "text/latex": [
       "$\\displaystyle \\epsilon \\mu \\frac{\\partial^{2}}{\\partial t^{2}} E_{x}{\\left(x,y,z,t \\right)} + \\mu \\frac{\\partial}{\\partial t} J_{x}{\\left(x,y,z,t \\right)} + \\mu \\frac{\\partial^{2}}{\\partial t^{2}} P_{x}{\\left(x,y,z,t \\right)} - \\frac{\\partial^{2}}{\\partial x^{2}} E_{x}{\\left(x,y,z,t \\right)} - \\frac{\\partial^{2}}{\\partial y^{2}} E_{x}{\\left(x,y,z,t \\right)} - \\frac{\\partial^{2}}{\\partial z^{2}} E_{x}{\\left(x,y,z,t \\right)} - \\frac{\\partial^{2}}{\\partial t\\partial z} M_{y}{\\left(x,y,z,t \\right)} + \\frac{\\partial^{2}}{\\partial t\\partial y} M_{z}{\\left(x,y,z,t \\right)} - \\frac{\\frac{\\partial^{2}}{\\partial x^{2}} P_{x}{\\left(x,y,z,t \\right)}}{\\epsilon} - \\frac{\\frac{\\partial^{2}}{\\partial y\\partial x} P_{y}{\\left(x,y,z,t \\right)}}{\\epsilon} - \\frac{\\frac{\\partial^{2}}{\\partial z\\partial x} P_{z}{\\left(x,y,z,t \\right)}}{\\epsilon}$"
      ],
      "text/plain": [
       "epsilon*mu*Derivative(E_x(x, y, z, t), (t, 2)) + mu*Derivative(J_x(x, y, z, t), t) + mu*Derivative(P_x(x, y, z, t), (t, 2)) - Derivative(E_x(x, y, z, t), (x, 2)) - Derivative(E_x(x, y, z, t), (y, 2)) - Derivative(E_x(x, y, z, t), (z, 2)) - Derivative(M_y(x, y, z, t), z, t) + Derivative(M_z(x, y, z, t), y, t) - Derivative(P_x(x, y, z, t), (x, 2))/epsilon - Derivative(P_y(x, y, z, t), x, y)/epsilon - Derivative(P_z(x, y, z, t), x, z)/epsilon"
      ]
     },
     "execution_count": 56,
     "metadata": {},
     "output_type": "execute_result"
    }
   ],
   "source": [
    "#Component in x-direction:\n",
    "eq_9 = dot(eq_8,N.x)\n",
    "eq_9"
   ]
  },
  {
   "cell_type": "code",
   "execution_count": 57,
   "id": "6c6fa29d",
   "metadata": {},
   "outputs": [
    {
     "data": {
      "text/latex": [
       "$\\displaystyle \\epsilon \\mu \\frac{\\partial^{2}}{\\partial t^{2}} E_{x}{\\left(x,y,z,t \\right)} + \\mu \\frac{\\partial^{2}}{\\partial t^{2}} P_{x}{\\left(x,y,z,t \\right)} - \\frac{\\partial^{2}}{\\partial x^{2}} E_{x}{\\left(x,y,z,t \\right)} - \\frac{\\partial^{2}}{\\partial y^{2}} E_{x}{\\left(x,y,z,t \\right)} - \\frac{\\partial^{2}}{\\partial z^{2}} E_{x}{\\left(x,y,z,t \\right)} - \\frac{\\partial^{2}}{\\partial t\\partial z} M_{y}{\\left(x,y,z,t \\right)} + \\frac{\\partial^{2}}{\\partial t\\partial y} M_{z}{\\left(x,y,z,t \\right)} - \\frac{\\frac{\\partial^{2}}{\\partial x^{2}} P_{x}{\\left(x,y,z,t \\right)}}{\\epsilon} - \\frac{\\frac{\\partial^{2}}{\\partial y\\partial x} P_{y}{\\left(x,y,z,t \\right)}}{\\epsilon} - \\frac{\\frac{\\partial^{2}}{\\partial z\\partial x} P_{z}{\\left(x,y,z,t \\right)}}{\\epsilon}$"
      ],
      "text/plain": [
       "epsilon*mu*Derivative(E_x(x, y, z, t), (t, 2)) + mu*Derivative(P_x(x, y, z, t), (t, 2)) - Derivative(E_x(x, y, z, t), (x, 2)) - Derivative(E_x(x, y, z, t), (y, 2)) - Derivative(E_x(x, y, z, t), (z, 2)) - Derivative(M_y(x, y, z, t), z, t) + Derivative(M_z(x, y, z, t), y, t) - Derivative(P_x(x, y, z, t), (x, 2))/epsilon - Derivative(P_y(x, y, z, t), x, y)/epsilon - Derivative(P_z(x, y, z, t), x, z)/epsilon"
      ]
     },
     "execution_count": 57,
     "metadata": {},
     "output_type": "execute_result"
    }
   ],
   "source": [
    "#Component in x-direction with no charges:\n",
    "eq_10 = eq_9.subs(dot(Jx,N.x),0).subs(dot(Jy,N.y),0).subs(dot(Jz,N.z),0).simplify().expand()\n",
    "eq_10"
   ]
  },
  {
   "cell_type": "code",
   "execution_count": 58,
   "id": "6e429bd6",
   "metadata": {},
   "outputs": [
    {
     "data": {
      "text/latex": [
       "$\\displaystyle \\epsilon \\mu \\frac{\\partial^{2}}{\\partial t^{2}} E_{x}{\\left(x,y,z,t \\right)} + \\mu \\frac{\\partial^{2}}{\\partial t^{2}} P_{x}{\\left(x,y,z,t \\right)} - \\frac{\\partial^{2}}{\\partial x^{2}} E_{x}{\\left(x,y,z,t \\right)} - \\frac{\\partial^{2}}{\\partial y^{2}} E_{x}{\\left(x,y,z,t \\right)} - \\frac{\\partial^{2}}{\\partial z^{2}} E_{x}{\\left(x,y,z,t \\right)} - \\frac{\\frac{\\partial^{2}}{\\partial x^{2}} P_{x}{\\left(x,y,z,t \\right)}}{\\epsilon} - \\frac{\\frac{\\partial^{2}}{\\partial y\\partial x} P_{y}{\\left(x,y,z,t \\right)}}{\\epsilon} - \\frac{\\frac{\\partial^{2}}{\\partial z\\partial x} P_{z}{\\left(x,y,z,t \\right)}}{\\epsilon}$"
      ],
      "text/plain": [
       "epsilon*mu*Derivative(E_x(x, y, z, t), (t, 2)) + mu*Derivative(P_x(x, y, z, t), (t, 2)) - Derivative(E_x(x, y, z, t), (x, 2)) - Derivative(E_x(x, y, z, t), (y, 2)) - Derivative(E_x(x, y, z, t), (z, 2)) - Derivative(P_x(x, y, z, t), (x, 2))/epsilon - Derivative(P_y(x, y, z, t), x, y)/epsilon - Derivative(P_z(x, y, z, t), x, z)/epsilon"
      ]
     },
     "execution_count": 58,
     "metadata": {},
     "output_type": "execute_result"
    }
   ],
   "source": [
    "#Component in x-direction with no magnetization and charges:\n",
    "eq_11 = eq_10.subs(dot(Mx,N.x),0).subs(dot(My,N.y),0).subs(dot(Mz,N.z),0).simplify().expand()\n",
    "eq_11"
   ]
  },
  {
   "cell_type": "code",
   "execution_count": 59,
   "id": "49db0960",
   "metadata": {},
   "outputs": [
    {
     "data": {
      "text/latex": [
       "$\\displaystyle \\epsilon \\mu \\frac{\\partial^{2}}{\\partial t^{2}} E_{x}{\\left(x,y,z,t \\right)} + \\mu \\frac{\\partial^{2}}{\\partial t^{2}} P_{x}{\\left(x,y,z,t \\right)} - \\frac{\\partial^{2}}{\\partial x^{2}} E_{x}{\\left(x,y,z,t \\right)} - \\frac{\\partial^{2}}{\\partial y^{2}} E_{x}{\\left(x,y,z,t \\right)} - \\frac{\\partial^{2}}{\\partial z^{2}} E_{x}{\\left(x,y,z,t \\right)}$"
      ],
      "text/plain": [
       "epsilon*mu*Derivative(E_x(x, y, z, t), (t, 2)) + mu*Derivative(P_x(x, y, z, t), (t, 2)) - Derivative(E_x(x, y, z, t), (x, 2)) - Derivative(E_x(x, y, z, t), (y, 2)) - Derivative(E_x(x, y, z, t), (z, 2))"
      ]
     },
     "execution_count": 59,
     "metadata": {},
     "output_type": "execute_result"
    }
   ],
   "source": [
    "#Component in x-direction with no magnetization, no charges and for isotrophic material:\n",
    "eq_12 = eq_11.subs(dot(sp.diff(Px,x,N),N.x),0).subs(dot(sp.diff(Py,y,N),N.y),0).subs(dot(sp.diff(Pz,z,N),N.z),0).simplify().expand()\n",
    "eq_12"
   ]
  },
  {
   "cell_type": "code",
   "execution_count": 74,
   "id": "83f14e76",
   "metadata": {},
   "outputs": [
    {
     "data": {
      "text/latex": [
       "$\\displaystyle - \\frac{\\partial^{2}}{\\partial x^{2}} E_{x}{\\left(x,y,z,t \\right)} - \\frac{\\partial^{2}}{\\partial y^{2}} E_{x}{\\left(x,y,z,t \\right)} - \\frac{\\partial^{2}}{\\partial z^{2}} E_{x}{\\left(x,y,z,t \\right)} + \\frac{n \\frac{\\partial^{2}}{\\partial t^{2}} P_{x}{\\left(x,y,z,t \\right)}}{c \\epsilon} + \\frac{n^{2} \\frac{\\partial^{2}}{\\partial t^{2}} E_{x}{\\left(x,y,z,t \\right)}}{c^{2}}$"
      ],
      "text/plain": [
       "-Derivative(E_x(x, y, z, t), (x, 2)) - Derivative(E_x(x, y, z, t), (y, 2)) - Derivative(E_x(x, y, z, t), (z, 2)) + n*Derivative(P_x(x, y, z, t), (t, 2))/(c*epsilon) + n**2*Derivative(E_x(x, y, z, t), (t, 2))/c**2"
      ]
     },
     "execution_count": 74,
     "metadata": {},
     "output_type": "execute_result"
    }
   ],
   "source": [
    "#Component in x-direction with no magnetization, no charges and for isotrophic material:\n",
    "#using refractive index (n) and c:\n",
    "n,c,eps0,mu0 = sp.symbols('n c epsilon_0 mu_0', real=True)\n",
    "eq_12.subs(eps*mu,n**2/c**2).subs(mu,n/c/eps).expand()"
   ]
  },
  {
   "cell_type": "code",
   "execution_count": 70,
   "id": "4d861917",
   "metadata": {},
   "outputs": [
    {
     "data": {
      "text/latex": [
       "$\\displaystyle \\epsilon \\mu = \\frac{n}{c}$"
      ],
      "text/plain": [
       "Eq(epsilon*mu, n/c)"
      ]
     },
     "execution_count": 70,
     "metadata": {},
     "output_type": "execute_result"
    }
   ],
   "source": [
    "sp.Eq(eps*mu,n/c)"
   ]
  },
  {
   "cell_type": "code",
   "execution_count": 71,
   "id": "d0213b75",
   "metadata": {},
   "outputs": [
    {
     "data": {
      "text/latex": [
       "$\\displaystyle \\mu = \\frac{n}{c \\epsilon}$"
      ],
      "text/plain": [
       "Eq(mu, n/(c*epsilon))"
      ]
     },
     "execution_count": 71,
     "metadata": {},
     "output_type": "execute_result"
    }
   ],
   "source": [
    "sp.Eq(mu,n/c/eps)"
   ]
  },
  {
   "cell_type": "code",
   "execution_count": null,
   "id": "047ec16c",
   "metadata": {},
   "outputs": [],
   "source": []
  }
 ],
 "metadata": {
  "kernelspec": {
   "display_name": "Python 3",
   "language": "python",
   "name": "python3"
  },
  "language_info": {
   "codemirror_mode": {
    "name": "ipython",
    "version": 3
   },
   "file_extension": ".py",
   "mimetype": "text/x-python",
   "name": "python",
   "nbconvert_exporter": "python",
   "pygments_lexer": "ipython3",
   "version": "3.13.9"
  }
 },
 "nbformat": 4,
 "nbformat_minor": 5
}
