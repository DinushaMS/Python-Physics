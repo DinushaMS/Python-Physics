{
 "cells": [
  {
   "cell_type": "code",
   "execution_count": 1,
   "id": "f3ed2681",
   "metadata": {},
   "outputs": [],
   "source": [
    "from sympy.physics.vector import ReferenceFrame, cross, dot, curl, gradient, divergence\n",
    "import sympy as sp\n",
    "from IPython.display import display, Math"
   ]
  },
  {
   "cell_type": "code",
   "execution_count": 2,
   "id": "9f8ba638",
   "metadata": {},
   "outputs": [],
   "source": [
    "N = ReferenceFrame('N',variables=('x','y','z'))\n",
    "x,y,z = N[0],N[1],N[2] #sp.symbols('x y z', real=True, nonzeor=True)\n",
    "t = sp.symbols('t', real=True, nonzeor=True)\n",
    "E,P,D,H,M,B = sp.symbols('E P D H M B', cls=sp.Function)\n",
    "Ex,Ey,Ez = sp.symbols('E_x E_y E_z', cls=sp.Function)\n",
    "Ex,Ey,Ez = Ex(x,y,z,t)*N.x,Ey(x,y,z,t)*N.y,Ez(x,y,z,t)*N.z\n",
    "Dx,Dy,Dz = sp.symbols('D_x D_y D_z', cls=sp.Function)\n",
    "Dx,Dy,Dz = Dx(x,y,z,t)*N.x,Dy(x,y,z,t)*N.y,Dz(x,y,z,t)*N.z\n",
    "Px,Py,Pz = sp.symbols('P_x P_y P_z', cls=sp.Function)\n",
    "Px,Py,Pz = Px(x,y,z,t)*N.x,Py(x,y,z,t)*N.y,Pz(x,y,z,t)*N.z\n",
    "Bx,By,Bz = sp.symbols('B_x B_y B_z', cls=sp.Function)\n",
    "Bx,By,Bz = Bx(x,y,z,t)*N.x,By(x,y,z,t)*N.y,Bz(x,y,z,t)*N.z\n",
    "Hx,Hy,Hz = sp.symbols('H_x H_y H_z', cls=sp.Function)\n",
    "Hx,Hy,Hz = Hx(x,y,z,t)*N.x,Hy(x,y,z,t)*N.y,Hz(x,y,z,t)*N.z\n",
    "Mx,My,Mz = sp.symbols('M_x M_y M_z', cls=sp.Function)\n",
    "Mx,My,Mz = Mx(x,y,z,t)*N.x,My(x,y,z,t)*N.y,Mz(x,y,z,t)*N.z\n",
    "E = Ex + Ey + Ez\n",
    "D = Dx + Dy + Dz\n",
    "P = Px + Py + Pz\n",
    "B = Bx + By + Bz\n",
    "H = Hx + Hy + Hz\n",
    "M = Mx + My + Mz"
   ]
  },
  {
   "cell_type": "code",
   "execution_count": 6,
   "id": "56cd4ced",
   "metadata": {},
   "outputs": [],
   "source": [
    "rho,eps,mu = sp.symbols('rho epsilon mu', real=True)\n",
    "J = sp.symbols('J', cls=sp.Function)\n",
    "Jx,Jy,Jz = sp.symbols('J_x J_y J_z', cls=sp.Function)\n",
    "Jx,Jy,Jz = Jx(x,y,z,t)*N.x,Jy(x,y,z,t)*N.y,Jz(x,y,z,t)*N.z\n",
    "J = Jx + Jy + Jz"
   ]
  },
  {
   "cell_type": "code",
   "execution_count": 7,
   "id": "e4c29a48",
   "metadata": {},
   "outputs": [
    {
     "data": {
      "text/latex": [
       "$\\displaystyle - \\rho + \\frac{\\partial}{\\partial x} D_{x}{\\left(x,y,z,t \\right)} + \\frac{\\partial}{\\partial y} D_{y}{\\left(x,y,z,t \\right)} + \\frac{\\partial}{\\partial z} D_{z}{\\left(x,y,z,t \\right)}$"
      ],
      "text/plain": [
       "<IPython.core.display.Math object>"
      ]
     },
     "metadata": {},
     "output_type": "display_data"
    },
    {
     "data": {
      "text/latex": [
       "$\\displaystyle \\frac{\\partial}{\\partial x} B_{x}{\\left(x,y,z,t \\right)} + \\frac{\\partial}{\\partial y} B_{y}{\\left(x,y,z,t \\right)} + \\frac{\\partial}{\\partial z} B_{z}{\\left(x,y,z,t \\right)}$"
      ],
      "text/plain": [
       "<IPython.core.display.Math object>"
      ]
     },
     "metadata": {},
     "output_type": "display_data"
    },
    {
     "data": {
      "text/latex": [
       "$\\displaystyle (\\frac{\\partial}{\\partial t} B_{x}{\\left(x,y,z,t \\right)} - \\frac{\\partial}{\\partial z} E_{y}{\\left(x,y,z,t \\right)} + \\frac{\\partial}{\\partial y} E_{z}{\\left(x,y,z,t \\right)})\\mathbf{\\hat{n}_x} + (\\frac{\\partial}{\\partial t} B_{y}{\\left(x,y,z,t \\right)} + \\frac{\\partial}{\\partial z} E_{x}{\\left(x,y,z,t \\right)} - \\frac{\\partial}{\\partial x} E_{z}{\\left(x,y,z,t \\right)})\\mathbf{\\hat{n}_y} + (\\frac{\\partial}{\\partial t} B_{z}{\\left(x,y,z,t \\right)} - \\frac{\\partial}{\\partial y} E_{x}{\\left(x,y,z,t \\right)} + \\frac{\\partial}{\\partial x} E_{y}{\\left(x,y,z,t \\right)})\\mathbf{\\hat{n}_z}$"
      ],
      "text/plain": [
       "<IPython.core.display.Math object>"
      ]
     },
     "metadata": {},
     "output_type": "display_data"
    },
    {
     "data": {
      "text/latex": [
       "$\\displaystyle (- J_{x}{\\left(x,y,z,t \\right)} - \\frac{\\partial}{\\partial t} D_{x}{\\left(x,y,z,t \\right)} - \\frac{\\partial}{\\partial z} H_{y}{\\left(x,y,z,t \\right)} + \\frac{\\partial}{\\partial y} H_{z}{\\left(x,y,z,t \\right)})\\mathbf{\\hat{n}_x} + (- J_{y}{\\left(x,y,z,t \\right)} - \\frac{\\partial}{\\partial t} D_{y}{\\left(x,y,z,t \\right)} + \\frac{\\partial}{\\partial z} H_{x}{\\left(x,y,z,t \\right)} - \\frac{\\partial}{\\partial x} H_{z}{\\left(x,y,z,t \\right)})\\mathbf{\\hat{n}_y} + (- J_{z}{\\left(x,y,z,t \\right)} - \\frac{\\partial}{\\partial t} D_{z}{\\left(x,y,z,t \\right)} - \\frac{\\partial}{\\partial y} H_{x}{\\left(x,y,z,t \\right)} + \\frac{\\partial}{\\partial x} H_{y}{\\left(x,y,z,t \\right)})\\mathbf{\\hat{n}_z}$"
      ],
      "text/plain": [
       "<IPython.core.display.Math object>"
      ]
     },
     "metadata": {},
     "output_type": "display_data"
    }
   ],
   "source": [
    "#Maxwell's Equations\n",
    "eq_1 = divergence(D,N)-rho\n",
    "eq_2 = divergence(B,N)\n",
    "eq_3 = curl(E,N) + sp.diff(B,t,N)\n",
    "eq_4 = curl(H,N) - sp.diff(D,t,N) - J\n",
    "display(Math(sp.latex(eq_1)))\n",
    "display(Math(sp.latex(eq_2)))\n",
    "display(Math(sp.latex(eq_3)))\n",
    "display(Math(sp.latex(eq_4)))"
   ]
  },
  {
   "cell_type": "code",
   "execution_count": 17,
   "id": "851abe3e",
   "metadata": {},
   "outputs": [
    {
     "ename": "SympifyError",
     "evalue": "SympifyError: Derivative(D_x(x, y, z, t), t)*N.x",
     "output_type": "error",
     "traceback": [
      "\u001b[31m---------------------------------------------------------------------------\u001b[39m",
      "\u001b[31mSympifyError\u001b[39m                              Traceback (most recent call last)",
      "\u001b[36mCell\u001b[39m\u001b[36m \u001b[39m\u001b[32mIn[17]\u001b[39m\u001b[32m, line 1\u001b[39m\n\u001b[32m----> \u001b[39m\u001b[32m1\u001b[39m \u001b[43meq_1\u001b[49m\u001b[43m.\u001b[49m\u001b[43msubs\u001b[49m\u001b[43m(\u001b[49m\u001b[43mrho\u001b[49m\u001b[43m,\u001b[49m\u001b[32;43m0\u001b[39;49m\u001b[43m)\u001b[49m\u001b[43m.\u001b[49m\u001b[43msubs\u001b[49m\u001b[43m(\u001b[49m\u001b[43msp\u001b[49m\u001b[43m.\u001b[49m\u001b[43mdiff\u001b[49m\u001b[43m(\u001b[49m\u001b[43mDx\u001b[49m\u001b[43m,\u001b[49m\u001b[43mt\u001b[49m\u001b[43m,\u001b[49m\u001b[43mN\u001b[49m\u001b[43m)\u001b[49m\u001b[43m,\u001b[49m\u001b[32;43m0\u001b[39;49m\u001b[43m)\u001b[49m\n",
      "\u001b[36mFile \u001b[39m\u001b[32mc:\\Users\\dinus\\OneDrive\\Desktop\\Python Physics\\.venv\\Lib\\site-packages\\sympy\\core\\basic.py:1122\u001b[39m, in \u001b[36mBasic.subs\u001b[39m\u001b[34m(self, arg1, arg2, **kwargs)\u001b[39m\n\u001b[32m   1119\u001b[39m     \u001b[38;5;28;01melse\u001b[39;00m:\n\u001b[32m   1120\u001b[39m         \u001b[38;5;28;01mreturn\u001b[39;00m sympify(new, strict=\u001b[38;5;28;01mTrue\u001b[39;00m)\n\u001b[32m-> \u001b[39m\u001b[32m1122\u001b[39m sequence = [(\u001b[43msympify_old\u001b[49m\u001b[43m(\u001b[49m\u001b[43ms1\u001b[49m\u001b[43m)\u001b[49m, sympify_new(s2)) \u001b[38;5;28;01mfor\u001b[39;00m s1, s2 \u001b[38;5;129;01min\u001b[39;00m items]\n\u001b[32m   1124\u001b[39m \u001b[38;5;66;03m# skip if there is no change\u001b[39;00m\n\u001b[32m   1125\u001b[39m sequence = [(s1, s2) \u001b[38;5;28;01mfor\u001b[39;00m s1, s2 \u001b[38;5;129;01min\u001b[39;00m sequence \u001b[38;5;28;01mif\u001b[39;00m \u001b[38;5;129;01mnot\u001b[39;00m _aresame(s1, s2)]\n",
      "\u001b[36mFile \u001b[39m\u001b[32mc:\\Users\\dinus\\OneDrive\\Desktop\\Python Physics\\.venv\\Lib\\site-packages\\sympy\\core\\basic.py:1113\u001b[39m, in \u001b[36mBasic.subs.<locals>.sympify_old\u001b[39m\u001b[34m(old)\u001b[39m\n\u001b[32m   1111\u001b[39m     \u001b[38;5;28;01mreturn\u001b[39;00m sympify(old, strict=\u001b[38;5;28;01mFalse\u001b[39;00m)\n\u001b[32m   1112\u001b[39m \u001b[38;5;28;01melse\u001b[39;00m:\n\u001b[32m-> \u001b[39m\u001b[32m1113\u001b[39m     \u001b[38;5;28;01mreturn\u001b[39;00m \u001b[43msympify\u001b[49m\u001b[43m(\u001b[49m\u001b[43mold\u001b[49m\u001b[43m,\u001b[49m\u001b[43m \u001b[49m\u001b[43mstrict\u001b[49m\u001b[43m=\u001b[49m\u001b[38;5;28;43;01mTrue\u001b[39;49;00m\u001b[43m)\u001b[49m\n",
      "\u001b[36mFile \u001b[39m\u001b[32mc:\\Users\\dinus\\OneDrive\\Desktop\\Python Physics\\.venv\\Lib\\site-packages\\sympy\\core\\sympify.py:480\u001b[39m, in \u001b[36msympify\u001b[39m\u001b[34m(a, locals, convert_xor, strict, rational, evaluate)\u001b[39m\n\u001b[32m    477\u001b[39m         \u001b[38;5;28;01mreturn\u001b[39;00m sympify(\u001b[38;5;28mint\u001b[39m(a))\n\u001b[32m    479\u001b[39m \u001b[38;5;28;01mif\u001b[39;00m strict:\n\u001b[32m--> \u001b[39m\u001b[32m480\u001b[39m     \u001b[38;5;28;01mraise\u001b[39;00m SympifyError(a)\n\u001b[32m    482\u001b[39m \u001b[38;5;28;01mif\u001b[39;00m iterable(a):\n\u001b[32m    483\u001b[39m     \u001b[38;5;28;01mtry\u001b[39;00m:\n",
      "\u001b[31mSympifyError\u001b[39m: SympifyError: Derivative(D_x(x, y, z, t), t)*N.x"
     ]
    }
   ],
   "source": [
    "eq_1.subs(rho,0).subs(sp.diff(Dx,t,N),0)"
   ]
  },
  {
   "cell_type": "code",
   "execution_count": 26,
   "id": "5a6ed9a0",
   "metadata": {},
   "outputs": [
    {
     "ename": "SympifyError",
     "evalue": "SympifyError: D_x(x, y, z, t)*N.x",
     "output_type": "error",
     "traceback": [
      "\u001b[31m---------------------------------------------------------------------------\u001b[39m",
      "\u001b[31mSympifyError\u001b[39m                              Traceback (most recent call last)",
      "\u001b[36mCell\u001b[39m\u001b[36m \u001b[39m\u001b[32mIn[26]\u001b[39m\u001b[32m, line 1\u001b[39m\n\u001b[32m----> \u001b[39m\u001b[32m1\u001b[39m \u001b[43mdot\u001b[49m\u001b[43m(\u001b[49m\u001b[43mDx\u001b[49m\u001b[43m,\u001b[49m\u001b[43mEx\u001b[49m\u001b[43m)\u001b[49m\u001b[43m.\u001b[49m\u001b[43msubs\u001b[49m\u001b[43m(\u001b[49m\u001b[43mDx\u001b[49m\u001b[43m,\u001b[49m\u001b[32;43m0\u001b[39;49m\u001b[43m)\u001b[49m\n",
      "\u001b[36mFile \u001b[39m\u001b[32mc:\\Users\\dinus\\OneDrive\\Desktop\\Python Physics\\.venv\\Lib\\site-packages\\sympy\\core\\basic.py:1122\u001b[39m, in \u001b[36mBasic.subs\u001b[39m\u001b[34m(self, arg1, arg2, **kwargs)\u001b[39m\n\u001b[32m   1119\u001b[39m     \u001b[38;5;28;01melse\u001b[39;00m:\n\u001b[32m   1120\u001b[39m         \u001b[38;5;28;01mreturn\u001b[39;00m sympify(new, strict=\u001b[38;5;28;01mTrue\u001b[39;00m)\n\u001b[32m-> \u001b[39m\u001b[32m1122\u001b[39m sequence = [(\u001b[43msympify_old\u001b[49m\u001b[43m(\u001b[49m\u001b[43ms1\u001b[49m\u001b[43m)\u001b[49m, sympify_new(s2)) \u001b[38;5;28;01mfor\u001b[39;00m s1, s2 \u001b[38;5;129;01min\u001b[39;00m items]\n\u001b[32m   1124\u001b[39m \u001b[38;5;66;03m# skip if there is no change\u001b[39;00m\n\u001b[32m   1125\u001b[39m sequence = [(s1, s2) \u001b[38;5;28;01mfor\u001b[39;00m s1, s2 \u001b[38;5;129;01min\u001b[39;00m sequence \u001b[38;5;28;01mif\u001b[39;00m \u001b[38;5;129;01mnot\u001b[39;00m _aresame(s1, s2)]\n",
      "\u001b[36mFile \u001b[39m\u001b[32mc:\\Users\\dinus\\OneDrive\\Desktop\\Python Physics\\.venv\\Lib\\site-packages\\sympy\\core\\basic.py:1113\u001b[39m, in \u001b[36mBasic.subs.<locals>.sympify_old\u001b[39m\u001b[34m(old)\u001b[39m\n\u001b[32m   1111\u001b[39m     \u001b[38;5;28;01mreturn\u001b[39;00m sympify(old, strict=\u001b[38;5;28;01mFalse\u001b[39;00m)\n\u001b[32m   1112\u001b[39m \u001b[38;5;28;01melse\u001b[39;00m:\n\u001b[32m-> \u001b[39m\u001b[32m1113\u001b[39m     \u001b[38;5;28;01mreturn\u001b[39;00m \u001b[43msympify\u001b[49m\u001b[43m(\u001b[49m\u001b[43mold\u001b[49m\u001b[43m,\u001b[49m\u001b[43m \u001b[49m\u001b[43mstrict\u001b[49m\u001b[43m=\u001b[49m\u001b[38;5;28;43;01mTrue\u001b[39;49;00m\u001b[43m)\u001b[49m\n",
      "\u001b[36mFile \u001b[39m\u001b[32mc:\\Users\\dinus\\OneDrive\\Desktop\\Python Physics\\.venv\\Lib\\site-packages\\sympy\\core\\sympify.py:480\u001b[39m, in \u001b[36msympify\u001b[39m\u001b[34m(a, locals, convert_xor, strict, rational, evaluate)\u001b[39m\n\u001b[32m    477\u001b[39m         \u001b[38;5;28;01mreturn\u001b[39;00m sympify(\u001b[38;5;28mint\u001b[39m(a))\n\u001b[32m    479\u001b[39m \u001b[38;5;28;01mif\u001b[39;00m strict:\n\u001b[32m--> \u001b[39m\u001b[32m480\u001b[39m     \u001b[38;5;28;01mraise\u001b[39;00m SympifyError(a)\n\u001b[32m    482\u001b[39m \u001b[38;5;28;01mif\u001b[39;00m iterable(a):\n\u001b[32m    483\u001b[39m     \u001b[38;5;28;01mtry\u001b[39;00m:\n",
      "\u001b[31mSympifyError\u001b[39m: SympifyError: D_x(x, y, z, t)*N.x"
     ]
    }
   ],
   "source": [
    "dot(Dx,Ex).subs(Dx,0)"
   ]
  },
  {
   "cell_type": "code",
   "execution_count": 38,
   "id": "e6e292ca",
   "metadata": {},
   "outputs": [
    {
     "data": {
      "text/latex": [
       "$\\displaystyle x g{\\left(x \\right)}$"
      ],
      "text/plain": [
       "x*g(x)"
      ]
     },
     "execution_count": 38,
     "metadata": {},
     "output_type": "execute_result"
    }
   ],
   "source": [
    "x = sp.symbols('x')\n",
    "f = sp.Function('f')\n",
    "g = sp.Function('g')\n",
    "expr = f(x)*x\n",
    "expr.subs(f(x),g(x))"
   ]
  },
  {
   "cell_type": "code",
   "execution_count": null,
   "id": "2ccec152",
   "metadata": {},
   "outputs": [],
   "source": []
  }
 ],
 "metadata": {
  "kernelspec": {
   "display_name": ".venv (3.13.5)",
   "language": "python",
   "name": "python3"
  },
  "language_info": {
   "codemirror_mode": {
    "name": "ipython",
    "version": 3
   },
   "file_extension": ".py",
   "mimetype": "text/x-python",
   "name": "python",
   "nbconvert_exporter": "python",
   "pygments_lexer": "ipython3",
   "version": "3.13.5"
  }
 },
 "nbformat": 4,
 "nbformat_minor": 5
}
