{
 "cells": [
  {
   "cell_type": "code",
   "execution_count": 1,
   "id": "f3ed2681",
   "metadata": {},
   "outputs": [],
   "source": [
    "from sympy.physics.vector import ReferenceFrame, cross, dot, curl, gradient, divergence\n",
    "import sympy as sp\n",
    "from IPython.display import display, Math"
   ]
  },
  {
   "cell_type": "code",
   "execution_count": 2,
   "id": "9f8ba638",
   "metadata": {},
   "outputs": [],
   "source": [
    "N = ReferenceFrame('N',variables=('x','y','z'))\n",
    "x,y,z = N[0],N[1],N[2] #sp.symbols('x y z', real=True, nonzeor=True)\n",
    "t = sp.symbols('t', real=True, nonzeor=True)\n",
    "E,P,D,H,M,B = sp.symbols('E P D H M B', cls=sp.Function)\n",
    "Ex,Ey,Ez = sp.symbols('E_x E_y E_z', cls=sp.Function)\n",
    "Ex,Ey,Ez = Ex(x,y,z,t)*N.x,Ey(x,y,z,t)*N.y,Ez(x,y,z,t)*N.z\n",
    "Dx,Dy,Dz = sp.symbols('D_x D_y D_z', cls=sp.Function)\n",
    "Dx,Dy,Dz = Dx(x,y,z,t)*N.x,Dy(x,y,z,t)*N.y,Dz(x,y,z,t)*N.z\n",
    "Px,Py,Pz = sp.symbols('P_x P_y P_z', cls=sp.Function)\n",
    "Px,Py,Pz = Px(x,y,z,t)*N.x,Py(x,y,z,t)*N.y,Pz(x,y,z,t)*N.z\n",
    "Bx,By,Bz = sp.symbols('B_x B_y B_z', cls=sp.Function)\n",
    "Bx,By,Bz = Bx(x,y,z,t)*N.x,By(x,y,z,t)*N.y,Bz(x,y,z,t)*N.z\n",
    "Hx,Hy,Hz = sp.symbols('H_x H_y H_z', cls=sp.Function)\n",
    "Hx,Hy,Hz = Hx(x,y,z,t)*N.x,Hy(x,y,z,t)*N.y,Hz(x,y,z,t)*N.z\n",
    "Mx,My,Mz = sp.symbols('M_x M_y M_z', cls=sp.Function)\n",
    "Mx,My,Mz = Mx(x,y,z,t)*N.x,My(x,y,z,t)*N.y,Mz(x,y,z,t)*N.z\n",
    "E = Ex + Ey + Ez\n",
    "D = Dx + Dy + Dz\n",
    "P = Px + Py + Pz\n",
    "B = Bx + By + Bz\n",
    "H = Hx + Hy + Hz\n",
    "M = Mx + My + Mz"
   ]
  },
  {
   "cell_type": "code",
   "execution_count": 3,
   "id": "56cd4ced",
   "metadata": {},
   "outputs": [],
   "source": [
    "rho,eps,mu = sp.symbols('rho epsilon mu', real=True)\n",
    "J = sp.symbols('J', cls=sp.Function)\n",
    "Jx,Jy,Jz = sp.symbols('J_x J_y J_z', cls=sp.Function)\n",
    "Jx,Jy,Jz = Jx(x,y,z,t)*N.x,Jy(x,y,z,t)*N.y,Jz(x,y,z,t)*N.z\n",
    "J = Jx + Jy + Jz"
   ]
  },
  {
   "cell_type": "code",
   "execution_count": 4,
   "id": "e4c29a48",
   "metadata": {},
   "outputs": [
    {
     "data": {
      "text/latex": [
       "$\\displaystyle - \\rho + \\frac{\\partial}{\\partial x} D_{x}{\\left(x,y,z,t \\right)} + \\frac{\\partial}{\\partial y} D_{y}{\\left(x,y,z,t \\right)} + \\frac{\\partial}{\\partial z} D_{z}{\\left(x,y,z,t \\right)}$"
      ],
      "text/plain": [
       "<IPython.core.display.Math object>"
      ]
     },
     "metadata": {},
     "output_type": "display_data"
    },
    {
     "data": {
      "text/latex": [
       "$\\displaystyle \\frac{\\partial}{\\partial x} B_{x}{\\left(x,y,z,t \\right)} + \\frac{\\partial}{\\partial y} B_{y}{\\left(x,y,z,t \\right)} + \\frac{\\partial}{\\partial z} B_{z}{\\left(x,y,z,t \\right)}$"
      ],
      "text/plain": [
       "<IPython.core.display.Math object>"
      ]
     },
     "metadata": {},
     "output_type": "display_data"
    },
    {
     "data": {
      "text/latex": [
       "$\\displaystyle (\\frac{\\partial}{\\partial t} B_{x}{\\left(x,y,z,t \\right)} - \\frac{\\partial}{\\partial z} E_{y}{\\left(x,y,z,t \\right)} + \\frac{\\partial}{\\partial y} E_{z}{\\left(x,y,z,t \\right)})\\mathbf{\\hat{n}_x} + (\\frac{\\partial}{\\partial t} B_{y}{\\left(x,y,z,t \\right)} + \\frac{\\partial}{\\partial z} E_{x}{\\left(x,y,z,t \\right)} - \\frac{\\partial}{\\partial x} E_{z}{\\left(x,y,z,t \\right)})\\mathbf{\\hat{n}_y} + (\\frac{\\partial}{\\partial t} B_{z}{\\left(x,y,z,t \\right)} - \\frac{\\partial}{\\partial y} E_{x}{\\left(x,y,z,t \\right)} + \\frac{\\partial}{\\partial x} E_{y}{\\left(x,y,z,t \\right)})\\mathbf{\\hat{n}_z}$"
      ],
      "text/plain": [
       "<IPython.core.display.Math object>"
      ]
     },
     "metadata": {},
     "output_type": "display_data"
    },
    {
     "data": {
      "text/latex": [
       "$\\displaystyle (- J_{x}{\\left(x,y,z,t \\right)} - \\frac{\\partial}{\\partial t} D_{x}{\\left(x,y,z,t \\right)} - \\frac{\\partial}{\\partial z} H_{y}{\\left(x,y,z,t \\right)} + \\frac{\\partial}{\\partial y} H_{z}{\\left(x,y,z,t \\right)})\\mathbf{\\hat{n}_x} + (- J_{y}{\\left(x,y,z,t \\right)} - \\frac{\\partial}{\\partial t} D_{y}{\\left(x,y,z,t \\right)} + \\frac{\\partial}{\\partial z} H_{x}{\\left(x,y,z,t \\right)} - \\frac{\\partial}{\\partial x} H_{z}{\\left(x,y,z,t \\right)})\\mathbf{\\hat{n}_y} + (- J_{z}{\\left(x,y,z,t \\right)} - \\frac{\\partial}{\\partial t} D_{z}{\\left(x,y,z,t \\right)} - \\frac{\\partial}{\\partial y} H_{x}{\\left(x,y,z,t \\right)} + \\frac{\\partial}{\\partial x} H_{y}{\\left(x,y,z,t \\right)})\\mathbf{\\hat{n}_z}$"
      ],
      "text/plain": [
       "<IPython.core.display.Math object>"
      ]
     },
     "metadata": {},
     "output_type": "display_data"
    }
   ],
   "source": [
    "#Maxwell's Equations\n",
    "eq_1 = divergence(D,N)-rho\n",
    "eq_2 = divergence(B,N)\n",
    "eq_3 = curl(E,N) + sp.diff(B,t,N)\n",
    "eq_4 = curl(H,N) - sp.diff(D,t,N) - J\n",
    "display(Math(sp.latex(eq_1)))\n",
    "display(Math(sp.latex(eq_2)))\n",
    "display(Math(sp.latex(eq_3)))\n",
    "display(Math(sp.latex(eq_4)))"
   ]
  },
  {
   "cell_type": "code",
   "execution_count": 77,
   "id": "919318d8",
   "metadata": {},
   "outputs": [
    {
     "data": {
      "text/latex": [
       "$\\displaystyle (- \\frac{\\partial^{2}}{\\partial y^{2}} E_{x}{\\left(x,y,z,t \\right)} - \\frac{\\partial^{2}}{\\partial z^{2}} E_{x}{\\left(x,y,z,t \\right)} - \\frac{\\partial^{2}}{\\partial t\\partial z} \\left(\\mu H_{y}{\\left(x,y,z,t \\right)} + M_{y}{\\left(x,y,z,t \\right)}\\right) + \\frac{\\partial^{2}}{\\partial t\\partial y} \\left(\\mu H_{z}{\\left(x,y,z,t \\right)} + M_{z}{\\left(x,y,z,t \\right)}\\right) + \\frac{\\partial^{2}}{\\partial y\\partial x} E_{y}{\\left(x,y,z,t \\right)} + \\frac{\\partial^{2}}{\\partial z\\partial x} E_{z}{\\left(x,y,z,t \\right)})\\mathbf{\\hat{n}_x} + (- \\frac{\\partial^{2}}{\\partial x^{2}} E_{y}{\\left(x,y,z,t \\right)} - \\frac{\\partial^{2}}{\\partial z^{2}} E_{y}{\\left(x,y,z,t \\right)} + \\frac{\\partial^{2}}{\\partial t\\partial z} \\left(\\mu H_{x}{\\left(x,y,z,t \\right)} + M_{x}{\\left(x,y,z,t \\right)}\\right) - \\frac{\\partial^{2}}{\\partial t\\partial x} \\left(\\mu H_{z}{\\left(x,y,z,t \\right)} + M_{z}{\\left(x,y,z,t \\right)}\\right) + \\frac{\\partial^{2}}{\\partial y\\partial x} E_{x}{\\left(x,y,z,t \\right)} + \\frac{\\partial^{2}}{\\partial z\\partial y} E_{z}{\\left(x,y,z,t \\right)})\\mathbf{\\hat{n}_y} + (- \\frac{\\partial^{2}}{\\partial x^{2}} E_{z}{\\left(x,y,z,t \\right)} - \\frac{\\partial^{2}}{\\partial y^{2}} E_{z}{\\left(x,y,z,t \\right)} - \\frac{\\partial^{2}}{\\partial t\\partial y} \\left(\\mu H_{x}{\\left(x,y,z,t \\right)} + M_{x}{\\left(x,y,z,t \\right)}\\right) + \\frac{\\partial^{2}}{\\partial t\\partial x} \\left(\\mu H_{y}{\\left(x,y,z,t \\right)} + M_{y}{\\left(x,y,z,t \\right)}\\right) + \\frac{\\partial^{2}}{\\partial z\\partial x} E_{x}{\\left(x,y,z,t \\right)} + \\frac{\\partial^{2}}{\\partial z\\partial y} E_{y}{\\left(x,y,z,t \\right)})\\mathbf{\\hat{n}_z}$"
      ],
      "text/plain": [
       "(-Derivative(E_x(x, y, z, t), (y, 2)) - Derivative(E_x(x, y, z, t), (z, 2)) - Derivative(mu*H_y(x, y, z, t) + M_y(x, y, z, t), z, t) + Derivative(mu*H_z(x, y, z, t) + M_z(x, y, z, t), y, t) + Derivative(E_y(x, y, z, t), x, y) + Derivative(E_z(x, y, z, t), x, z))*N.x + (-Derivative(E_y(x, y, z, t), (x, 2)) - Derivative(E_y(x, y, z, t), (z, 2)) + Derivative(mu*H_x(x, y, z, t) + M_x(x, y, z, t), z, t) - Derivative(mu*H_z(x, y, z, t) + M_z(x, y, z, t), x, t) + Derivative(E_x(x, y, z, t), x, y) + Derivative(E_z(x, y, z, t), y, z))*N.y + (-Derivative(E_z(x, y, z, t), (x, 2)) - Derivative(E_z(x, y, z, t), (y, 2)) - Derivative(mu*H_x(x, y, z, t) + M_x(x, y, z, t), y, t) + Derivative(mu*H_y(x, y, z, t) + M_y(x, y, z, t), x, t) + Derivative(E_x(x, y, z, t), x, z) + Derivative(E_y(x, y, z, t), y, z))*N.z"
      ]
     },
     "execution_count": 77,
     "metadata": {},
     "output_type": "execute_result"
    }
   ],
   "source": [
    "eq_5 = curl(eq_3,N).subs(dot(Bx,N.x),mu*dot(Hx,N.x)+dot(Mx,N.x)).subs(dot(By,N.y),mu*dot(Hy,N.y)+dot(My,N.y)).subs(dot(Bz,N.z),mu*dot(Hz,N.z)+dot(Mz,N.z))\n",
    "eq_5"
   ]
  },
  {
   "cell_type": "code",
   "execution_count": 81,
   "id": "20d48ebb",
   "metadata": {},
   "outputs": [
    {
     "data": {
      "text/latex": [
       "$\\displaystyle \\mu \\left(- \\frac{\\partial^{2}}{\\partial t^{2}} D_{x}{\\left(x,y,z,t \\right)} - \\frac{\\partial}{\\partial t} J_{x}{\\left(x,y,z,t \\right)} - \\frac{\\partial^{2}}{\\partial t\\partial z} H_{y}{\\left(x,y,z,t \\right)} + \\frac{\\partial^{2}}{\\partial t\\partial y} H_{z}{\\left(x,y,z,t \\right)}\\right)\\mathbf{\\hat{n}_x} + \\mu \\left(- \\frac{\\partial^{2}}{\\partial t^{2}} D_{y}{\\left(x,y,z,t \\right)} - \\frac{\\partial}{\\partial t} J_{y}{\\left(x,y,z,t \\right)} + \\frac{\\partial^{2}}{\\partial t\\partial z} H_{x}{\\left(x,y,z,t \\right)} - \\frac{\\partial^{2}}{\\partial t\\partial x} H_{z}{\\left(x,y,z,t \\right)}\\right)\\mathbf{\\hat{n}_y} + \\mu \\left(- \\frac{\\partial^{2}}{\\partial t^{2}} D_{z}{\\left(x,y,z,t \\right)} - \\frac{\\partial}{\\partial t} J_{z}{\\left(x,y,z,t \\right)} - \\frac{\\partial^{2}}{\\partial t\\partial y} H_{x}{\\left(x,y,z,t \\right)} + \\frac{\\partial^{2}}{\\partial t\\partial x} H_{y}{\\left(x,y,z,t \\right)}\\right)\\mathbf{\\hat{n}_z}$"
      ],
      "text/plain": [
       "mu*(-Derivative(D_x(x, y, z, t), (t, 2)) - Derivative(J_x(x, y, z, t), t) - Derivative(H_y(x, y, z, t), z, t) + Derivative(H_z(x, y, z, t), y, t))*N.x + mu*(-Derivative(D_y(x, y, z, t), (t, 2)) - Derivative(J_y(x, y, z, t), t) + Derivative(H_x(x, y, z, t), z, t) - Derivative(H_z(x, y, z, t), x, t))*N.y + mu*(-Derivative(D_z(x, y, z, t), (t, 2)) - Derivative(J_z(x, y, z, t), t) - Derivative(H_x(x, y, z, t), y, t) + Derivative(H_y(x, y, z, t), x, t))*N.z"
      ]
     },
     "execution_count": 81,
     "metadata": {},
     "output_type": "execute_result"
    }
   ],
   "source": [
    "eq_6 = sp.diff(eq_4*mu,t,N)\n",
    "eq_6"
   ]
  },
  {
   "cell_type": "code",
   "execution_count": 95,
   "id": "3f94640b",
   "metadata": {},
   "outputs": [
    {
     "data": {
      "text/latex": [
       "$\\displaystyle \\frac{\\partial^{2}}{\\partial x^{2}} D_{x}{\\left(x,y,z,t \\right)} + \\frac{\\partial^{2}}{\\partial y\\partial x} D_{y}{\\left(x,y,z,t \\right)} + \\frac{\\partial^{2}}{\\partial z\\partial x} D_{z}{\\left(x,y,z,t \\right)}$"
      ],
      "text/plain": [
       "Derivative(D_x(x, y, z, t), (x, 2)) + Derivative(D_y(x, y, z, t), x, y) + Derivative(D_z(x, y, z, t), x, z)"
      ]
     },
     "execution_count": 95,
     "metadata": {},
     "output_type": "execute_result"
    }
   ],
   "source": [
    "divergence(eq_1*N.x,N)"
   ]
  },
  {
   "cell_type": "code",
   "execution_count": 86,
   "id": "d70b51a2",
   "metadata": {},
   "outputs": [
    {
     "data": {
      "text/latex": [
       "$\\displaystyle \\mu \\frac{\\partial^{2}}{\\partial t^{2}} D_{x}{\\left(x,y,z,t \\right)} + \\mu \\frac{\\partial}{\\partial t} J_{x}{\\left(x,y,z,t \\right)} - \\frac{\\partial^{2}}{\\partial y^{2}} E_{x}{\\left(x,y,z,t \\right)} - \\frac{\\partial^{2}}{\\partial z^{2}} E_{x}{\\left(x,y,z,t \\right)} + \\frac{\\partial^{2}}{\\partial y\\partial x} E_{y}{\\left(x,y,z,t \\right)} + \\frac{\\partial^{2}}{\\partial z\\partial x} E_{z}{\\left(x,y,z,t \\right)} - \\frac{\\partial^{2}}{\\partial t\\partial z} M_{y}{\\left(x,y,z,t \\right)} + \\frac{\\partial^{2}}{\\partial t\\partial y} M_{z}{\\left(x,y,z,t \\right)}$"
      ],
      "text/plain": [
       "mu*Derivative(D_x(x, y, z, t), (t, 2)) + mu*Derivative(J_x(x, y, z, t), t) - Derivative(E_x(x, y, z, t), (y, 2)) - Derivative(E_x(x, y, z, t), (z, 2)) + Derivative(E_y(x, y, z, t), x, y) + Derivative(E_z(x, y, z, t), x, z) - Derivative(M_y(x, y, z, t), z, t) + Derivative(M_z(x, y, z, t), y, t)"
      ]
     },
     "execution_count": 86,
     "metadata": {},
     "output_type": "execute_result"
    }
   ],
   "source": [
    "dot(eq_5-eq_6,N.x).expand().simplify()"
   ]
  },
  {
   "cell_type": "code",
   "execution_count": 45,
   "id": "bee914f8",
   "metadata": {},
   "outputs": [
    {
     "data": {
      "text/latex": [
       "$\\displaystyle \\mu \\left(- \\epsilon \\frac{\\partial^{2}}{\\partial t^{2}} E_{x}{\\left(x,y,z,t \\right)} - \\frac{\\partial}{\\partial t} J_{x}{\\left(x,y,z,t \\right)} - \\frac{\\partial^{2}}{\\partial t^{2}} P_{x}{\\left(x,y,z,t \\right)} - \\frac{\\partial^{2}}{\\partial t\\partial z} H_{y}{\\left(x,y,z,t \\right)} + \\frac{\\partial^{2}}{\\partial t\\partial y} H_{z}{\\left(x,y,z,t \\right)}\\right)\\mathbf{\\hat{n}_x} + \\mu \\left(- \\epsilon \\frac{\\partial^{2}}{\\partial t^{2}} E_{y}{\\left(x,y,z,t \\right)} - \\frac{\\partial}{\\partial t} J_{y}{\\left(x,y,z,t \\right)} - \\frac{\\partial^{2}}{\\partial t^{2}} P_{y}{\\left(x,y,z,t \\right)} + \\frac{\\partial^{2}}{\\partial t\\partial z} H_{x}{\\left(x,y,z,t \\right)} - \\frac{\\partial^{2}}{\\partial t\\partial x} H_{z}{\\left(x,y,z,t \\right)}\\right)\\mathbf{\\hat{n}_y} + \\mu \\left(- \\epsilon \\frac{\\partial^{2}}{\\partial t^{2}} E_{z}{\\left(x,y,z,t \\right)} - \\frac{\\partial}{\\partial t} J_{z}{\\left(x,y,z,t \\right)} - \\frac{\\partial^{2}}{\\partial t^{2}} P_{z}{\\left(x,y,z,t \\right)} - \\frac{\\partial^{2}}{\\partial t\\partial y} H_{x}{\\left(x,y,z,t \\right)} + \\frac{\\partial^{2}}{\\partial t\\partial x} H_{y}{\\left(x,y,z,t \\right)}\\right)\\mathbf{\\hat{n}_z}$"
      ],
      "text/plain": [
       "mu*(-epsilon*Derivative(E_x(x, y, z, t), (t, 2)) - Derivative(J_x(x, y, z, t), t) - Derivative(P_x(x, y, z, t), (t, 2)) - Derivative(H_y(x, y, z, t), z, t) + Derivative(H_z(x, y, z, t), y, t))*N.x + mu*(-epsilon*Derivative(E_y(x, y, z, t), (t, 2)) - Derivative(J_y(x, y, z, t), t) - Derivative(P_y(x, y, z, t), (t, 2)) + Derivative(H_x(x, y, z, t), z, t) - Derivative(H_z(x, y, z, t), x, t))*N.y + mu*(-epsilon*Derivative(E_z(x, y, z, t), (t, 2)) - Derivative(J_z(x, y, z, t), t) - Derivative(P_z(x, y, z, t), (t, 2)) - Derivative(H_x(x, y, z, t), y, t) + Derivative(H_y(x, y, z, t), x, t))*N.z"
      ]
     },
     "execution_count": 45,
     "metadata": {},
     "output_type": "execute_result"
    }
   ],
   "source": [
    "eq_5=sp.diff(eq_4.subs(dot(Dx,N.x),eps*dot(Ex,N.x)+dot(Px,N.x)).subs(dot(Dy,N.y),eps*dot(Ey,N.y)+dot(Py,N.y)).subs(dot(Dz,N.z),eps*dot(Ez,N.z)+dot(Pz,N.z))*mu,t,N)\n",
    "eq_5"
   ]
  },
  {
   "cell_type": "code",
   "execution_count": 40,
   "id": "139194d6",
   "metadata": {},
   "outputs": [
    {
     "data": {
      "text/latex": [
       "$\\displaystyle (- \\frac{\\partial^{2}}{\\partial y^{2}} E_{x}{\\left(x,y,z,t \\right)} - \\frac{\\partial^{2}}{\\partial z^{2}} E_{x}{\\left(x,y,z,t \\right)} - \\frac{\\partial^{2}}{\\partial t\\partial z} \\left(\\mu H_{y}{\\left(x,y,z,t \\right)} + M_{y}{\\left(x,y,z,t \\right)}\\right) + \\frac{\\partial^{2}}{\\partial t\\partial y} \\left(\\mu H_{z}{\\left(x,y,z,t \\right)} + M_{z}{\\left(x,y,z,t \\right)}\\right) + \\frac{\\partial^{2}}{\\partial y\\partial x} E_{y}{\\left(x,y,z,t \\right)} + \\frac{\\partial^{2}}{\\partial z\\partial x} E_{z}{\\left(x,y,z,t \\right)})\\mathbf{\\hat{n}_x} + (- \\frac{\\partial^{2}}{\\partial x^{2}} E_{y}{\\left(x,y,z,t \\right)} - \\frac{\\partial^{2}}{\\partial z^{2}} E_{y}{\\left(x,y,z,t \\right)} + \\frac{\\partial^{2}}{\\partial t\\partial z} \\left(\\mu H_{x}{\\left(x,y,z,t \\right)} + M_{x}{\\left(x,y,z,t \\right)}\\right) - \\frac{\\partial^{2}}{\\partial t\\partial x} \\left(\\mu H_{z}{\\left(x,y,z,t \\right)} + M_{z}{\\left(x,y,z,t \\right)}\\right) + \\frac{\\partial^{2}}{\\partial y\\partial x} E_{x}{\\left(x,y,z,t \\right)} + \\frac{\\partial^{2}}{\\partial z\\partial y} E_{z}{\\left(x,y,z,t \\right)})\\mathbf{\\hat{n}_y} + (- \\frac{\\partial^{2}}{\\partial x^{2}} E_{z}{\\left(x,y,z,t \\right)} - \\frac{\\partial^{2}}{\\partial y^{2}} E_{z}{\\left(x,y,z,t \\right)} - \\frac{\\partial^{2}}{\\partial t\\partial y} \\left(\\mu H_{x}{\\left(x,y,z,t \\right)} + M_{x}{\\left(x,y,z,t \\right)}\\right) + \\frac{\\partial^{2}}{\\partial t\\partial x} \\left(\\mu H_{y}{\\left(x,y,z,t \\right)} + M_{y}{\\left(x,y,z,t \\right)}\\right) + \\frac{\\partial^{2}}{\\partial z\\partial x} E_{x}{\\left(x,y,z,t \\right)} + \\frac{\\partial^{2}}{\\partial z\\partial y} E_{y}{\\left(x,y,z,t \\right)})\\mathbf{\\hat{n}_z}$"
      ],
      "text/plain": [
       "(-Derivative(E_x(x, y, z, t), (y, 2)) - Derivative(E_x(x, y, z, t), (z, 2)) - Derivative(mu*H_y(x, y, z, t) + M_y(x, y, z, t), z, t) + Derivative(mu*H_z(x, y, z, t) + M_z(x, y, z, t), y, t) + Derivative(E_y(x, y, z, t), x, y) + Derivative(E_z(x, y, z, t), x, z))*N.x + (-Derivative(E_y(x, y, z, t), (x, 2)) - Derivative(E_y(x, y, z, t), (z, 2)) + Derivative(mu*H_x(x, y, z, t) + M_x(x, y, z, t), z, t) - Derivative(mu*H_z(x, y, z, t) + M_z(x, y, z, t), x, t) + Derivative(E_x(x, y, z, t), x, y) + Derivative(E_z(x, y, z, t), y, z))*N.y + (-Derivative(E_z(x, y, z, t), (x, 2)) - Derivative(E_z(x, y, z, t), (y, 2)) - Derivative(mu*H_x(x, y, z, t) + M_x(x, y, z, t), y, t) + Derivative(mu*H_y(x, y, z, t) + M_y(x, y, z, t), x, t) + Derivative(E_x(x, y, z, t), x, z) + Derivative(E_y(x, y, z, t), y, z))*N.z"
      ]
     },
     "execution_count": 40,
     "metadata": {},
     "output_type": "execute_result"
    }
   ],
   "source": [
    "eq_6 = curl(eq_3,N).subs(dot(Bx,N.x),mu*dot(Hx,N.x)+dot(Mx,N.x)).subs(dot(By,N.y),mu*dot(Hy,N.y)+dot(My,N.y)).subs(dot(Bz,N.z),mu*dot(Hz,N.z)+dot(Mz,N.z))\n",
    "eq_6"
   ]
  },
  {
   "cell_type": "code",
   "execution_count": 57,
   "id": "259be919",
   "metadata": {},
   "outputs": [
    {
     "data": {
      "text/latex": [
       "$\\displaystyle (\\epsilon \\frac{\\partial^{2}}{\\partial x^{2}} E_{x}{\\left(x,y,z,t \\right)} + \\epsilon \\frac{\\partial^{2}}{\\partial y\\partial x} E_{y}{\\left(x,y,z,t \\right)} + \\epsilon \\frac{\\partial^{2}}{\\partial z\\partial x} E_{z}{\\left(x,y,z,t \\right)} + \\frac{\\partial^{2}}{\\partial x^{2}} P_{x}{\\left(x,y,z,t \\right)} + \\frac{\\partial^{2}}{\\partial y\\partial x} P_{y}{\\left(x,y,z,t \\right)} + \\frac{\\partial^{2}}{\\partial z\\partial x} P_{z}{\\left(x,y,z,t \\right)})\\mathbf{\\hat{n}_x} + (\\epsilon \\frac{\\partial^{2}}{\\partial y^{2}} E_{y}{\\left(x,y,z,t \\right)} + \\epsilon \\frac{\\partial^{2}}{\\partial y\\partial x} E_{x}{\\left(x,y,z,t \\right)} + \\epsilon \\frac{\\partial^{2}}{\\partial z\\partial y} E_{z}{\\left(x,y,z,t \\right)} + \\frac{\\partial^{2}}{\\partial y^{2}} P_{y}{\\left(x,y,z,t \\right)} + \\frac{\\partial^{2}}{\\partial y\\partial x} P_{x}{\\left(x,y,z,t \\right)} + \\frac{\\partial^{2}}{\\partial z\\partial y} P_{z}{\\left(x,y,z,t \\right)})\\mathbf{\\hat{n}_y} + (\\epsilon \\frac{\\partial^{2}}{\\partial z^{2}} E_{z}{\\left(x,y,z,t \\right)} + \\epsilon \\frac{\\partial^{2}}{\\partial z\\partial x} E_{x}{\\left(x,y,z,t \\right)} + \\epsilon \\frac{\\partial^{2}}{\\partial z\\partial y} E_{y}{\\left(x,y,z,t \\right)} + \\frac{\\partial^{2}}{\\partial z^{2}} P_{z}{\\left(x,y,z,t \\right)} + \\frac{\\partial^{2}}{\\partial z\\partial x} P_{x}{\\left(x,y,z,t \\right)} + \\frac{\\partial^{2}}{\\partial z\\partial y} P_{y}{\\left(x,y,z,t \\right)})\\mathbf{\\hat{n}_z}$"
      ],
      "text/plain": [
       "(epsilon*Derivative(E_x(x, y, z, t), (x, 2)) + epsilon*Derivative(E_y(x, y, z, t), x, y) + epsilon*Derivative(E_z(x, y, z, t), x, z) + Derivative(P_x(x, y, z, t), (x, 2)) + Derivative(P_y(x, y, z, t), x, y) + Derivative(P_z(x, y, z, t), x, z))*N.x + (epsilon*Derivative(E_y(x, y, z, t), (y, 2)) + epsilon*Derivative(E_x(x, y, z, t), x, y) + epsilon*Derivative(E_z(x, y, z, t), y, z) + Derivative(P_y(x, y, z, t), (y, 2)) + Derivative(P_x(x, y, z, t), x, y) + Derivative(P_z(x, y, z, t), y, z))*N.y + (epsilon*Derivative(E_z(x, y, z, t), (z, 2)) + epsilon*Derivative(E_x(x, y, z, t), x, z) + epsilon*Derivative(E_y(x, y, z, t), y, z) + Derivative(P_z(x, y, z, t), (z, 2)) + Derivative(P_x(x, y, z, t), x, z) + Derivative(P_y(x, y, z, t), y, z))*N.z"
      ]
     },
     "execution_count": 57,
     "metadata": {},
     "output_type": "execute_result"
    }
   ],
   "source": [
    "eq_7 = gradient(eq_1.subs(dot(Dx,N.x),eps*dot(Ex,N.x)+dot(Px,N.x)).subs(dot(Dy,N.y),eps*dot(Ey,N.y)+dot(Py,N.y)).subs(dot(Dz,N.z),eps*dot(Ez,N.z)+dot(Pz,N.z)),N)\n",
    "eq_7"
   ]
  },
  {
   "cell_type": "code",
   "execution_count": 69,
   "id": "f3f28671",
   "metadata": {},
   "outputs": [
    {
     "data": {
      "text/latex": [
       "$\\displaystyle \\frac{\\partial}{\\partial x} B_{x}{\\left(x,y,z,t \\right)} + \\frac{\\partial}{\\partial y} B_{y}{\\left(x,y,z,t \\right)} + \\frac{\\partial}{\\partial z} B_{z}{\\left(x,y,z,t \\right)}$"
      ],
      "text/plain": [
       "Derivative(B_x(x, y, z, t), x) + Derivative(B_y(x, y, z, t), y) + Derivative(B_z(x, y, z, t), z)"
      ]
     },
     "execution_count": 69,
     "metadata": {},
     "output_type": "execute_result"
    }
   ],
   "source": [
    "eq_2"
   ]
  },
  {
   "cell_type": "code",
   "execution_count": 59,
   "id": "6e523c53",
   "metadata": {},
   "outputs": [
    {
     "data": {
      "text/latex": [
       "$\\displaystyle - \\epsilon^{2} \\mu \\frac{\\partial^{2}}{\\partial t^{2}} E_{x}{\\left(x,y,z,t \\right)} - \\epsilon \\mu \\frac{\\partial}{\\partial t} J_{x}{\\left(x,y,z,t \\right)} - \\epsilon \\mu \\frac{\\partial^{2}}{\\partial t^{2}} P_{x}{\\left(x,y,z,t \\right)} - \\epsilon \\mu \\frac{\\partial^{2}}{\\partial t\\partial z} H_{y}{\\left(x,y,z,t \\right)} + \\epsilon \\mu \\frac{\\partial^{2}}{\\partial t\\partial y} H_{z}{\\left(x,y,z,t \\right)} + \\epsilon \\left(\\mu \\frac{\\partial^{2}}{\\partial t\\partial z} H_{y}{\\left(x,y,z,t \\right)} + \\frac{\\partial^{2}}{\\partial t\\partial z} M_{y}{\\left(x,y,z,t \\right)}\\right) - \\epsilon \\left(\\mu \\frac{\\partial^{2}}{\\partial t\\partial y} H_{z}{\\left(x,y,z,t \\right)} + \\frac{\\partial^{2}}{\\partial t\\partial y} M_{z}{\\left(x,y,z,t \\right)}\\right) + \\epsilon \\frac{\\partial^{2}}{\\partial x^{2}} E_{x}{\\left(x,y,z,t \\right)} + \\epsilon \\frac{\\partial^{2}}{\\partial y^{2}} E_{x}{\\left(x,y,z,t \\right)} + \\epsilon \\frac{\\partial^{2}}{\\partial z^{2}} E_{x}{\\left(x,y,z,t \\right)} + \\frac{\\partial^{2}}{\\partial x^{2}} P_{x}{\\left(x,y,z,t \\right)} + \\frac{\\partial^{2}}{\\partial y\\partial x} P_{y}{\\left(x,y,z,t \\right)} + \\frac{\\partial^{2}}{\\partial z\\partial x} P_{z}{\\left(x,y,z,t \\right)}$"
      ],
      "text/plain": [
       "-epsilon**2*mu*Derivative(E_x(x, y, z, t), (t, 2)) - epsilon*mu*Derivative(J_x(x, y, z, t), t) - epsilon*mu*Derivative(P_x(x, y, z, t), (t, 2)) - epsilon*mu*Derivative(H_y(x, y, z, t), z, t) + epsilon*mu*Derivative(H_z(x, y, z, t), y, t) + epsilon*(mu*Derivative(H_y(x, y, z, t), z, t) + Derivative(M_y(x, y, z, t), z, t)) - epsilon*(mu*Derivative(H_z(x, y, z, t), y, t) + Derivative(M_z(x, y, z, t), y, t)) + epsilon*Derivative(E_x(x, y, z, t), (x, 2)) + epsilon*Derivative(E_x(x, y, z, t), (y, 2)) + epsilon*Derivative(E_x(x, y, z, t), (z, 2)) + Derivative(P_x(x, y, z, t), (x, 2)) + Derivative(P_y(x, y, z, t), x, y) + Derivative(P_z(x, y, z, t), x, z)"
      ]
     },
     "execution_count": 59,
     "metadata": {},
     "output_type": "execute_result"
    }
   ],
   "source": [
    "dot((eq_5-eq_6)*eps+eq_7,N.x).expand().simplify()"
   ]
  },
  {
   "cell_type": "code",
   "execution_count": null,
   "id": "e277f165",
   "metadata": {},
   "outputs": [],
   "source": []
  }
 ],
 "metadata": {
  "kernelspec": {
   "display_name": "Python 3",
   "language": "python",
   "name": "python3"
  },
  "language_info": {
   "codemirror_mode": {
    "name": "ipython",
    "version": 3
   },
   "file_extension": ".py",
   "mimetype": "text/x-python",
   "name": "python",
   "nbconvert_exporter": "python",
   "pygments_lexer": "ipython3",
   "version": "3.13.9"
  }
 },
 "nbformat": 4,
 "nbformat_minor": 5
}
