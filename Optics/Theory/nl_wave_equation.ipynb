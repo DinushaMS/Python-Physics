{
 "cells": [
  {
   "cell_type": "code",
   "execution_count": 2,
   "id": "f3ed2681",
   "metadata": {},
   "outputs": [],
   "source": [
    "from sympy.physics.vector import ReferenceFrame, cross, dot, curl, gradient, divergence\n",
    "import sympy as sp\n",
    "from IPython.display import display, Math"
   ]
  },
  {
   "cell_type": "code",
   "execution_count": 3,
   "id": "9f8ba638",
   "metadata": {},
   "outputs": [],
   "source": [
    "N = ReferenceFrame('N',variables=('x','y','z'))\n",
    "x,y,z = N[0],N[1],N[2] #sp.symbols('x y z', real=True, nonzeor=True)\n",
    "t = sp.symbols('t', real=True, nonzeor=True)\n",
    "E,P,D,H,M,B = sp.symbols('E P D H M B', cls=sp.Function)\n",
    "Ex,Ey,Ez = sp.symbols('E_x E_y E_z', cls=sp.Function)\n",
    "Ex,Ey,Ez = Ex(x,y,z,t)*N.x,Ey(x,y,z,t)*N.y,Ez(x,y,z,t)*N.z\n",
    "Dx,Dy,Dz = sp.symbols('D_x D_y D_z', cls=sp.Function)\n",
    "Dx,Dy,Dz = Dx(x,y,z,t)*N.x,Dy(x,y,z,t)*N.y,Dz(x,y,z,t)*N.z\n",
    "Px,Py,Pz = sp.symbols('P_x P_y P_z', cls=sp.Function)\n",
    "Px,Py,Pz = Px(x,y,z,t)*N.x,Py(x,y,z,t)*N.y,Pz(x,y,z,t)*N.z\n",
    "Bx,By,Bz = sp.symbols('B_x B_y B_z', cls=sp.Function)\n",
    "Bx,By,Bz = Bx(x,y,z,t)*N.x,By(x,y,z,t)*N.y,Bz(x,y,z,t)*N.z\n",
    "Hx,Hy,Hz = sp.symbols('H_x H_y H_z', cls=sp.Function)\n",
    "Hx,Hy,Hz = Hx(x,y,z,t)*N.x,Hy(x,y,z,t)*N.y,Hz(x,y,z,t)*N.z\n",
    "Mx,My,Mz = sp.symbols('M_x M_y M_z', cls=sp.Function)\n",
    "Mx,My,Mz = Mx(x,y,z,t)*N.x,My(x,y,z,t)*N.y,Mz(x,y,z,t)*N.z\n",
    "E = Ex + Ey + Ez\n",
    "D = Dx + Dy + Dz\n",
    "P = Px + Py + Pz\n",
    "B = Bx + By + Bz\n",
    "H = Hx + Hy + Hz\n",
    "M = Mx + My + Mz"
   ]
  },
  {
   "cell_type": "code",
   "execution_count": 5,
   "id": "56cd4ced",
   "metadata": {},
   "outputs": [],
   "source": [
    "rho,eps,mu = sp.symbols('rho epsilon mu', real=True)\n",
    "J = sp.symbols('J', cls=sp.Function)\n",
    "Jx,Jy,Jz = sp.symbols('J_x J_y J_z', cls=sp.Function)\n",
    "Jx,Jy,Jz = Jx(x,y,z,t)*N.x,Jy(x,y,z,t)*N.y,Jz(x,y,z,t)*N.z\n",
    "J = Jx + Jy + Jz"
   ]
  },
  {
   "cell_type": "code",
   "execution_count": 6,
   "id": "e4c29a48",
   "metadata": {},
   "outputs": [
    {
     "data": {
      "text/latex": [
       "$\\displaystyle - \\rho + \\frac{\\partial}{\\partial x} D_{x}{\\left(x,y,z,t \\right)} + \\frac{\\partial}{\\partial y} D_{y}{\\left(x,y,z,t \\right)} + \\frac{\\partial}{\\partial z} D_{z}{\\left(x,y,z,t \\right)}$"
      ],
      "text/plain": [
       "<IPython.core.display.Math object>"
      ]
     },
     "metadata": {},
     "output_type": "display_data"
    },
    {
     "data": {
      "text/latex": [
       "$\\displaystyle \\frac{\\partial}{\\partial x} B_{x}{\\left(x,y,z,t \\right)} + \\frac{\\partial}{\\partial y} B_{y}{\\left(x,y,z,t \\right)} + \\frac{\\partial}{\\partial z} B_{z}{\\left(x,y,z,t \\right)}$"
      ],
      "text/plain": [
       "<IPython.core.display.Math object>"
      ]
     },
     "metadata": {},
     "output_type": "display_data"
    },
    {
     "data": {
      "text/latex": [
       "$\\displaystyle (\\frac{\\partial}{\\partial t} B_{x}{\\left(x,y,z,t \\right)} - \\frac{\\partial}{\\partial z} E_{y}{\\left(x,y,z,t \\right)} + \\frac{\\partial}{\\partial y} E_{z}{\\left(x,y,z,t \\right)})\\mathbf{\\hat{n}_x} + (\\frac{\\partial}{\\partial t} B_{y}{\\left(x,y,z,t \\right)} + \\frac{\\partial}{\\partial z} E_{x}{\\left(x,y,z,t \\right)} - \\frac{\\partial}{\\partial x} E_{z}{\\left(x,y,z,t \\right)})\\mathbf{\\hat{n}_y} + (\\frac{\\partial}{\\partial t} B_{z}{\\left(x,y,z,t \\right)} - \\frac{\\partial}{\\partial y} E_{x}{\\left(x,y,z,t \\right)} + \\frac{\\partial}{\\partial x} E_{y}{\\left(x,y,z,t \\right)})\\mathbf{\\hat{n}_z}$"
      ],
      "text/plain": [
       "<IPython.core.display.Math object>"
      ]
     },
     "metadata": {},
     "output_type": "display_data"
    },
    {
     "data": {
      "text/latex": [
       "$\\displaystyle (- J_{x}{\\left(x,y,z,t \\right)} - \\frac{\\partial}{\\partial t} D_{x}{\\left(x,y,z,t \\right)} - \\frac{\\partial}{\\partial z} H_{y}{\\left(x,y,z,t \\right)} + \\frac{\\partial}{\\partial y} H_{z}{\\left(x,y,z,t \\right)})\\mathbf{\\hat{n}_x} + (- J_{y}{\\left(x,y,z,t \\right)} - \\frac{\\partial}{\\partial t} D_{y}{\\left(x,y,z,t \\right)} + \\frac{\\partial}{\\partial z} H_{x}{\\left(x,y,z,t \\right)} - \\frac{\\partial}{\\partial x} H_{z}{\\left(x,y,z,t \\right)})\\mathbf{\\hat{n}_y} + (- J_{z}{\\left(x,y,z,t \\right)} - \\frac{\\partial}{\\partial t} D_{z}{\\left(x,y,z,t \\right)} - \\frac{\\partial}{\\partial y} H_{x}{\\left(x,y,z,t \\right)} + \\frac{\\partial}{\\partial x} H_{y}{\\left(x,y,z,t \\right)})\\mathbf{\\hat{n}_z}$"
      ],
      "text/plain": [
       "<IPython.core.display.Math object>"
      ]
     },
     "metadata": {},
     "output_type": "display_data"
    }
   ],
   "source": [
    "#Maxwell's Equations\n",
    "eq_1 = divergence(D,N)-rho\n",
    "eq_2 = divergence(B,N)\n",
    "eq_3 = curl(E,N) + sp.diff(B,t,N)\n",
    "eq_4 = curl(H,N) - sp.diff(D,t,N) - J\n",
    "display(Math(sp.latex(eq_1)))\n",
    "display(Math(sp.latex(eq_2)))\n",
    "display(Math(sp.latex(eq_3)))\n",
    "display(Math(sp.latex(eq_4)))"
   ]
  },
  {
   "cell_type": "code",
   "execution_count": 9,
   "id": "e6e292ca",
   "metadata": {},
   "outputs": [
    {
     "data": {
      "text/latex": [
       "$\\displaystyle x g{\\left(x \\right)}$"
      ],
      "text/plain": [
       "x*g(x)"
      ]
     },
     "execution_count": 9,
     "metadata": {},
     "output_type": "execute_result"
    }
   ],
   "source": [
    "x = sp.symbols('x')\n",
    "f = sp.Function('f')\n",
    "g = sp.Function('g')\n",
    "expr = f(x)*x\n",
    "expr.subs(f(x),g(x))"
   ]
  },
  {
   "cell_type": "code",
   "execution_count": null,
   "id": "2ccec152",
   "metadata": {},
   "outputs": [],
   "source": [
    "#this line is added in mac"
   ]
  }
 ],
 "metadata": {
  "kernelspec": {
   "display_name": ".venv",
   "language": "python",
   "name": "python3"
  },
  "language_info": {
   "codemirror_mode": {
    "name": "ipython",
    "version": 3
   },
   "file_extension": ".py",
   "mimetype": "text/x-python",
   "name": "python",
   "nbconvert_exporter": "python",
   "pygments_lexer": "ipython3",
   "version": "3.13.7"
  }
 },
 "nbformat": 4,
 "nbformat_minor": 5
}
